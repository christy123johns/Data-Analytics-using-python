{
 "cells": [
  {
   "cell_type": "markdown",
   "id": "83d91561",
   "metadata": {},
   "source": [
    "# Hypothesis Testing\n",
    "\n",
    "Parametric test = data should be normal\n",
    "\n",
    "Non Parametric test= data should not be normal\n",
    "\n",
    "A t-test is a type of inferential statistic which is used to determine if there is a significant difference between the means of two groups which may be related in certain features\n",
    "\n",
    "T-test has 3 types : 1. one sampled t-test 2. two-sampled t-test. 3. Paired sample T test\n",
    "1. T test\n",
    "\n",
    "   1. One sample T test \n",
    "   2. Independent sample T test \n",
    "   3. Paired sample T test \n"
   ]
  },
  {
   "cell_type": "markdown",
   "id": "6557d2f7",
   "metadata": {},
   "source": [
    "ttest_1samp - Calculates the T-test for the mean of ONE group of scores.\n",
    "\n",
    "ttest_ind - Calculates the T-test for the means of TWO INDEPENDENT samples of scores.\n",
    "\n",
    "ttest_rel - Calculates the T-test on TWO RELATED samples of scores, a and b."
   ]
  },
  {
   "cell_type": "markdown",
   "id": "47ecfb91",
   "metadata": {},
   "source": [
    "# one sample T test \n",
    "\n",
    "In one sample T test one group being compared against a standard value.\n",
    "\n",
    "The one-sample t test can be used whenever sample means must be compared to a known test value.\n",
    "\n",
    "e.g., comparing the Final score of students with a cutoff mark 70.\n",
    "\n"
   ]
  },
  {
   "cell_type": "markdown",
   "id": "39d566dd",
   "metadata": {},
   "source": [
    "   we use T-test when the population standard deviation is unknown (not given) and the sample size is small (<30)"
   ]
  },
  {
   "cell_type": "markdown",
   "id": "fd070b8a",
   "metadata": {},
   "source": [
    "## For example: \n",
    "\n",
    "If you want to test a car manufacturer’s claim that their cars give a highway mileage of 20kmpl on an average. You sample 10 cars from the dealership, measure their mileage and use the T-test to determine if the manufacturer’s claim is true."
   ]
  },
  {
   "cell_type": "markdown",
   "id": "a4a0aa8e",
   "metadata": {},
   "source": [
    "Analyst wants to test the claim that Average Final Exam score is 70. Twenty pupils are chosen at random to measure effectiveness\n",
    "\n",
    "Ho: Mean  = 70\n",
    "\n",
    "H1: Mean <> 70\n",
    "\n",
    "Or\n",
    "\n",
    "H0 : There is No difference between sample mean and population mean\n",
    "\n",
    "H1 : There is a difference between sample mean and population mean"
   ]
  },
  {
   "cell_type": "code",
   "execution_count": 67,
   "id": "eb6e64c9",
   "metadata": {},
   "outputs": [],
   "source": [
    "import pandas as pd\n",
    "import numpy as np\n",
    "from scipy import stats\n",
    "import statsmodels.api as sm\n",
    "import scipy"
   ]
  },
  {
   "cell_type": "code",
   "execution_count": 68,
   "id": "c5813d6a",
   "metadata": {},
   "outputs": [],
   "source": [
    "from scipy.stats import ttest_1samp"
   ]
  },
  {
   "cell_type": "code",
   "execution_count": 69,
   "id": "602ad368",
   "metadata": {},
   "outputs": [],
   "source": [
    "df=pd.read_excel('Training Efficiency.xlsx')"
   ]
  },
  {
   "cell_type": "code",
   "execution_count": 70,
   "id": "078b4680",
   "metadata": {},
   "outputs": [
    {
     "data": {
      "text/html": [
       "<div>\n",
       "<style scoped>\n",
       "    .dataframe tbody tr th:only-of-type {\n",
       "        vertical-align: middle;\n",
       "    }\n",
       "\n",
       "    .dataframe tbody tr th {\n",
       "        vertical-align: top;\n",
       "    }\n",
       "\n",
       "    .dataframe thead th {\n",
       "        text-align: right;\n",
       "    }\n",
       "</style>\n",
       "<table border=\"1\" class=\"dataframe\">\n",
       "  <thead>\n",
       "    <tr style=\"text-align: right;\">\n",
       "      <th></th>\n",
       "      <th>Class</th>\n",
       "      <th>Batch</th>\n",
       "      <th>Name</th>\n",
       "      <th>Gender</th>\n",
       "      <th>Course</th>\n",
       "      <th>laptop_availability</th>\n",
       "      <th>before_training</th>\n",
       "      <th>after_training</th>\n",
       "      <th>exam score</th>\n",
       "      <th>Status</th>\n",
       "    </tr>\n",
       "  </thead>\n",
       "  <tbody>\n",
       "    <tr>\n",
       "      <th>0</th>\n",
       "      <td>1 st Year</td>\n",
       "      <td>Batch 1</td>\n",
       "      <td>ANJANA</td>\n",
       "      <td>Female</td>\n",
       "      <td>BA</td>\n",
       "      <td>Yes</td>\n",
       "      <td>13</td>\n",
       "      <td>22</td>\n",
       "      <td>924</td>\n",
       "      <td>Pass</td>\n",
       "    </tr>\n",
       "    <tr>\n",
       "      <th>1</th>\n",
       "      <td>1 st Year</td>\n",
       "      <td>Batch 1</td>\n",
       "      <td>JOSEPH</td>\n",
       "      <td>Male</td>\n",
       "      <td>B.Com / BBA</td>\n",
       "      <td>Yes</td>\n",
       "      <td>21</td>\n",
       "      <td>22</td>\n",
       "      <td>924</td>\n",
       "      <td>Pass</td>\n",
       "    </tr>\n",
       "    <tr>\n",
       "      <th>2</th>\n",
       "      <td>1 st Year</td>\n",
       "      <td>Batch 1</td>\n",
       "      <td>JOSNA</td>\n",
       "      <td>Female</td>\n",
       "      <td>B.Com / BBA</td>\n",
       "      <td>Yes</td>\n",
       "      <td>16</td>\n",
       "      <td>22</td>\n",
       "      <td>924</td>\n",
       "      <td>Pass</td>\n",
       "    </tr>\n",
       "    <tr>\n",
       "      <th>3</th>\n",
       "      <td>1 st Year</td>\n",
       "      <td>Batch 1</td>\n",
       "      <td>Judith</td>\n",
       "      <td>Male</td>\n",
       "      <td>BA</td>\n",
       "      <td>No</td>\n",
       "      <td>22</td>\n",
       "      <td>20</td>\n",
       "      <td>840</td>\n",
       "      <td>Pass</td>\n",
       "    </tr>\n",
       "    <tr>\n",
       "      <th>4</th>\n",
       "      <td>1 st Year</td>\n",
       "      <td>Batch 1</td>\n",
       "      <td>Vineetha</td>\n",
       "      <td>Female</td>\n",
       "      <td>B.Com / BBA</td>\n",
       "      <td>Yes</td>\n",
       "      <td>19</td>\n",
       "      <td>13</td>\n",
       "      <td>546</td>\n",
       "      <td>Fail</td>\n",
       "    </tr>\n",
       "  </tbody>\n",
       "</table>\n",
       "</div>"
      ],
      "text/plain": [
       "       Class    Batch      Name  Gender       Course laptop_availability  \\\n",
       "0  1 st Year  Batch 1    ANJANA  Female           BA                 Yes   \n",
       "1  1 st Year  Batch 1    JOSEPH    Male  B.Com / BBA                 Yes   \n",
       "2  1 st Year  Batch 1    JOSNA   Female  B.Com / BBA                 Yes   \n",
       "3  1 st Year  Batch 1    Judith    Male           BA                  No   \n",
       "4  1 st Year  Batch 1  Vineetha  Female  B.Com / BBA                 Yes   \n",
       "\n",
       "   before_training  after_training  exam score Status  \n",
       "0               13              22         924   Pass  \n",
       "1               21              22         924   Pass  \n",
       "2               16              22         924   Pass  \n",
       "3               22              20         840   Pass  \n",
       "4               19              13         546   Fail  "
      ]
     },
     "execution_count": 70,
     "metadata": {},
     "output_type": "execute_result"
    }
   ],
   "source": [
    "df.head()"
   ]
  },
  {
   "cell_type": "code",
   "execution_count": 71,
   "id": "7f05ddd9",
   "metadata": {},
   "outputs": [
    {
     "data": {
      "text/plain": [
       "(56, 10)"
      ]
     },
     "execution_count": 71,
     "metadata": {},
     "output_type": "execute_result"
    }
   ],
   "source": [
    "df.shape"
   ]
  },
  {
   "cell_type": "code",
   "execution_count": 72,
   "id": "98a9f554",
   "metadata": {},
   "outputs": [
    {
     "data": {
      "text/plain": [
       "Index(['Class', 'Batch', 'Name', 'Gender', 'Course', 'laptop_availability',\n",
       "       'before_training', 'after_training', 'exam score', 'Status'],\n",
       "      dtype='object')"
      ]
     },
     "execution_count": 72,
     "metadata": {},
     "output_type": "execute_result"
    }
   ],
   "source": [
    "df.columns"
   ]
  },
  {
   "cell_type": "markdown",
   "id": "27baa61a",
   "metadata": {},
   "source": [
    "### Hypothesis\n",
    "\n",
    "For this data the hypothesis is stated as\n",
    "\n",
    "• Ho: Mean  = 800\n",
    "\n",
    "• H1: Mean != 800\n"
   ]
  },
  {
   "cell_type": "code",
   "execution_count": 73,
   "id": "62833672",
   "metadata": {},
   "outputs": [
    {
     "data": {
      "text/plain": [
       "0    924\n",
       "1    924\n",
       "2    924\n",
       "3    840\n",
       "4    546\n",
       "Name: exam score, dtype: int64"
      ]
     },
     "execution_count": 73,
     "metadata": {},
     "output_type": "execute_result"
    }
   ],
   "source": [
    "scores=df['exam score']\n",
    "scores.head()"
   ]
  },
  {
   "cell_type": "code",
   "execution_count": 74,
   "id": "ccf796ee",
   "metadata": {},
   "outputs": [
    {
     "data": {
      "text/plain": [
       "840.0714285714286"
      ]
     },
     "execution_count": 74,
     "metadata": {},
     "output_type": "execute_result"
    }
   ],
   "source": [
    "scores_mean=np.mean(scores)\n",
    "scores_mean"
   ]
  },
  {
   "cell_type": "code",
   "execution_count": 75,
   "id": "a7255e6e",
   "metadata": {},
   "outputs": [
    {
     "data": {
      "text/plain": [
       "array([ 714,  714,  756,  546, 1000, 1000,  756,  798,  714,  924,  756,\n",
       "        840,  924,  840,  714,  840,  756,  756,  798,  756], dtype=int64)"
      ]
     },
     "execution_count": 75,
     "metadata": {},
     "output_type": "execute_result"
    }
   ],
   "source": [
    "#taking a sample\n",
    "sample_size=20\n",
    "scores_sample=np.random.choice(scores,sample_size)\n",
    "scores_sample"
   ]
  },
  {
   "cell_type": "code",
   "execution_count": 76,
   "id": "57710c28",
   "metadata": {},
   "outputs": [],
   "source": [
    "ttest,pvalue=ttest_1samp(scores_sample,800)"
   ]
  },
  {
   "cell_type": "code",
   "execution_count": 77,
   "id": "7d5fc283",
   "metadata": {},
   "outputs": [
    {
     "data": {
      "text/plain": [
       "(-0.20327898069860006, 0.8410781968192381)"
      ]
     },
     "execution_count": 77,
     "metadata": {},
     "output_type": "execute_result"
    }
   ],
   "source": [
    "ttest,pvalue"
   ]
  },
  {
   "cell_type": "code",
   "execution_count": 78,
   "id": "87882d2e",
   "metadata": {},
   "outputs": [
    {
     "name": "stdout",
     "output_type": "stream",
     "text": [
      "0.8410781968192381\n"
     ]
    }
   ],
   "source": [
    "print(pvalue)"
   ]
  },
  {
   "cell_type": "markdown",
   "id": "aeee77e5",
   "metadata": {},
   "source": [
    "In P value method\n",
    "\n",
    "If P value > 0.05 (significance value), Accept Ho\n",
    "\n",
    "P Value < 0.05 (significance value), Reject Ho"
   ]
  },
  {
   "cell_type": "code",
   "execution_count": 79,
   "id": "c1aca5a3",
   "metadata": {},
   "outputs": [
    {
     "name": "stdout",
     "output_type": "stream",
     "text": [
      "Accept Null Hypothesis (Ho: mean = 800), which means means are equal\n"
     ]
    }
   ],
   "source": [
    "# alpha value is 0.05 or 5% of significance level\n",
    "\n",
    "if pvalue > 0.05:\n",
    "    print(\"Accept Null Hypothesis (Ho: mean = 800), which means means are equal\")\n",
    "else:\n",
    "    print(\"Reject Null Hypothesis (Ho) & Accept (H1)\")"
   ]
  },
  {
   "cell_type": "code",
   "execution_count": null,
   "id": "fb5e71d8",
   "metadata": {},
   "outputs": [],
   "source": []
  }
 ],
 "metadata": {
  "kernelspec": {
   "display_name": "Python 3 (ipykernel)",
   "language": "python",
   "name": "python3"
  },
  "language_info": {
   "codemirror_mode": {
    "name": "ipython",
    "version": 3
   },
   "file_extension": ".py",
   "mimetype": "text/x-python",
   "name": "python",
   "nbconvert_exporter": "python",
   "pygments_lexer": "ipython3",
   "version": "3.9.13"
  }
 },
 "nbformat": 4,
 "nbformat_minor": 5
}
