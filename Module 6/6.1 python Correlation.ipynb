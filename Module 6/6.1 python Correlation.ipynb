{
 "cells": [
  {
   "cell_type": "code",
   "execution_count": 13,
   "id": "7737bd6e",
   "metadata": {},
   "outputs": [
    {
     "data": {
      "text/html": [
       "<div>\n",
       "<style scoped>\n",
       "    .dataframe tbody tr th:only-of-type {\n",
       "        vertical-align: middle;\n",
       "    }\n",
       "\n",
       "    .dataframe tbody tr th {\n",
       "        vertical-align: top;\n",
       "    }\n",
       "\n",
       "    .dataframe thead th {\n",
       "        text-align: right;\n",
       "    }\n",
       "</style>\n",
       "<table border=\"1\" class=\"dataframe\">\n",
       "  <thead>\n",
       "    <tr style=\"text-align: right;\">\n",
       "      <th></th>\n",
       "      <th>Class</th>\n",
       "      <th>Batch</th>\n",
       "      <th>Name</th>\n",
       "      <th>Gender</th>\n",
       "      <th>Course</th>\n",
       "      <th>laptop_availability</th>\n",
       "      <th>before_training</th>\n",
       "      <th>after_training</th>\n",
       "      <th>exam score</th>\n",
       "      <th>Status</th>\n",
       "    </tr>\n",
       "  </thead>\n",
       "  <tbody>\n",
       "    <tr>\n",
       "      <th>0</th>\n",
       "      <td>1 st Year</td>\n",
       "      <td>Batch 1</td>\n",
       "      <td>ANJANA</td>\n",
       "      <td>Female</td>\n",
       "      <td>BA</td>\n",
       "      <td>Yes</td>\n",
       "      <td>13</td>\n",
       "      <td>22</td>\n",
       "      <td>924</td>\n",
       "      <td>Pass</td>\n",
       "    </tr>\n",
       "    <tr>\n",
       "      <th>1</th>\n",
       "      <td>1 st Year</td>\n",
       "      <td>Batch 1</td>\n",
       "      <td>JOSEPH</td>\n",
       "      <td>Male</td>\n",
       "      <td>B.Com / BBA</td>\n",
       "      <td>Yes</td>\n",
       "      <td>21</td>\n",
       "      <td>22</td>\n",
       "      <td>924</td>\n",
       "      <td>Pass</td>\n",
       "    </tr>\n",
       "    <tr>\n",
       "      <th>2</th>\n",
       "      <td>1 st Year</td>\n",
       "      <td>Batch 1</td>\n",
       "      <td>JOSNA</td>\n",
       "      <td>Female</td>\n",
       "      <td>B.Com / BBA</td>\n",
       "      <td>Yes</td>\n",
       "      <td>16</td>\n",
       "      <td>22</td>\n",
       "      <td>924</td>\n",
       "      <td>Pass</td>\n",
       "    </tr>\n",
       "    <tr>\n",
       "      <th>3</th>\n",
       "      <td>1 st Year</td>\n",
       "      <td>Batch 1</td>\n",
       "      <td>Judith</td>\n",
       "      <td>Male</td>\n",
       "      <td>BA</td>\n",
       "      <td>No</td>\n",
       "      <td>22</td>\n",
       "      <td>20</td>\n",
       "      <td>840</td>\n",
       "      <td>Pass</td>\n",
       "    </tr>\n",
       "    <tr>\n",
       "      <th>4</th>\n",
       "      <td>1 st Year</td>\n",
       "      <td>Batch 1</td>\n",
       "      <td>Vineetha</td>\n",
       "      <td>Female</td>\n",
       "      <td>B.Com / BBA</td>\n",
       "      <td>Yes</td>\n",
       "      <td>19</td>\n",
       "      <td>13</td>\n",
       "      <td>546</td>\n",
       "      <td>Fail</td>\n",
       "    </tr>\n",
       "  </tbody>\n",
       "</table>\n",
       "</div>"
      ],
      "text/plain": [
       "       Class    Batch      Name  Gender       Course laptop_availability  \\\n",
       "0  1 st Year  Batch 1    ANJANA  Female           BA                 Yes   \n",
       "1  1 st Year  Batch 1    JOSEPH    Male  B.Com / BBA                 Yes   \n",
       "2  1 st Year  Batch 1    JOSNA   Female  B.Com / BBA                 Yes   \n",
       "3  1 st Year  Batch 1    Judith    Male           BA                  No   \n",
       "4  1 st Year  Batch 1  Vineetha  Female  B.Com / BBA                 Yes   \n",
       "\n",
       "   before_training  after_training  exam score Status  \n",
       "0               13              22         924   Pass  \n",
       "1               21              22         924   Pass  \n",
       "2               16              22         924   Pass  \n",
       "3               22              20         840   Pass  \n",
       "4               19              13         546   Fail  "
      ]
     },
     "execution_count": 13,
     "metadata": {},
     "output_type": "execute_result"
    }
   ],
   "source": [
    "import pandas as pd\n",
    "import seaborn as sns\n",
    "df= pd.read_excel('Training Efficiency.xlsx')\n",
    "df.head()"
   ]
  },
  {
   "cell_type": "code",
   "execution_count": 14,
   "id": "c9c16fed",
   "metadata": {
    "scrolled": true
   },
   "outputs": [
    {
     "data": {
      "text/html": [
       "<div>\n",
       "<style scoped>\n",
       "    .dataframe tbody tr th:only-of-type {\n",
       "        vertical-align: middle;\n",
       "    }\n",
       "\n",
       "    .dataframe tbody tr th {\n",
       "        vertical-align: top;\n",
       "    }\n",
       "\n",
       "    .dataframe thead th {\n",
       "        text-align: right;\n",
       "    }\n",
       "</style>\n",
       "<table border=\"1\" class=\"dataframe\">\n",
       "  <thead>\n",
       "    <tr style=\"text-align: right;\">\n",
       "      <th></th>\n",
       "      <th>before_training</th>\n",
       "      <th>after_training</th>\n",
       "      <th>exam score</th>\n",
       "    </tr>\n",
       "  </thead>\n",
       "  <tbody>\n",
       "    <tr>\n",
       "      <th>before_training</th>\n",
       "      <td>1.000000</td>\n",
       "      <td>0.394396</td>\n",
       "      <td>0.398184</td>\n",
       "    </tr>\n",
       "    <tr>\n",
       "      <th>after_training</th>\n",
       "      <td>0.394396</td>\n",
       "      <td>1.000000</td>\n",
       "      <td>0.994638</td>\n",
       "    </tr>\n",
       "    <tr>\n",
       "      <th>exam score</th>\n",
       "      <td>0.398184</td>\n",
       "      <td>0.994638</td>\n",
       "      <td>1.000000</td>\n",
       "    </tr>\n",
       "  </tbody>\n",
       "</table>\n",
       "</div>"
      ],
      "text/plain": [
       "                 before_training  after_training  exam score\n",
       "before_training         1.000000        0.394396    0.398184\n",
       "after_training          0.394396        1.000000    0.994638\n",
       "exam score              0.398184        0.994638    1.000000"
      ]
     },
     "execution_count": 14,
     "metadata": {},
     "output_type": "execute_result"
    }
   ],
   "source": [
    "df.corr()"
   ]
  },
  {
   "cell_type": "code",
   "execution_count": 16,
   "id": "ae9f0c63",
   "metadata": {},
   "outputs": [
    {
     "data": {
      "text/plain": [
       "0.9946380997234993"
      ]
     },
     "execution_count": 16,
     "metadata": {},
     "output_type": "execute_result"
    }
   ],
   "source": [
    "df['after_training'].corr(df['exam score']) \n"
   ]
  },
  {
   "cell_type": "markdown",
   "id": "b15b75f8",
   "metadata": {},
   "source": [
    "after training and final exam score are highly correlated arround 99%"
   ]
  },
  {
   "cell_type": "code",
   "execution_count": null,
   "id": "1df8baf1",
   "metadata": {},
   "outputs": [],
   "source": [
    "sns.heatmap(df.corr(),cbar=True)"
   ]
  },
  {
   "cell_type": "code",
   "execution_count": null,
   "id": "83646cce",
   "metadata": {},
   "outputs": [],
   "source": [
    "sns.pairplot(df)"
   ]
  },
  {
   "cell_type": "markdown",
   "id": "5855022a",
   "metadata": {},
   "source": [
    "we can see the graph is linearly poitive correlated of after training and final exam score"
   ]
  }
 ],
 "metadata": {
  "kernelspec": {
   "display_name": "Python 3 (ipykernel)",
   "language": "python",
   "name": "python3"
  },
  "language_info": {
   "codemirror_mode": {
    "name": "ipython",
    "version": 3
   },
   "file_extension": ".py",
   "mimetype": "text/x-python",
   "name": "python",
   "nbconvert_exporter": "python",
   "pygments_lexer": "ipython3",
   "version": "3.9.13"
  }
 },
 "nbformat": 4,
 "nbformat_minor": 5
}
