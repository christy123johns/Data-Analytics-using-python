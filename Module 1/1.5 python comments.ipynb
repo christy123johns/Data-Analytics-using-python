{
 "cells": [
  {
   "cell_type": "markdown",
   "id": "2a1c9efd",
   "metadata": {},
   "source": [
    "# Python comment"
   ]
  },
  {
   "cell_type": "code",
   "execution_count": 1,
   "id": "46eb5b32",
   "metadata": {},
   "outputs": [
    {
     "data": {
      "text/plain": [
       "\"Hai all it's me Fedrerick D'Souza from America\""
      ]
     },
     "execution_count": 1,
     "metadata": {},
     "output_type": "execute_result"
    }
   ],
   "source": [
    "#a single line comment\n",
    "#a multi line comment\n",
    "\"\"\"Hai all it's me Fedrerick D'Souza from America\"\"\""
   ]
  },
  {
   "cell_type": "code",
   "execution_count": 2,
   "id": "ca9a2683",
   "metadata": {},
   "outputs": [],
   "source": [
    "#this is a comment\n",
    "#print(\"hello world\")\n"
   ]
  },
  {
   "cell_type": "code",
   "execution_count": 3,
   "id": "1bc16857",
   "metadata": {},
   "outputs": [
    {
     "name": "stdout",
     "output_type": "stream",
     "text": [
      "Hello world\n"
     ]
    }
   ],
   "source": [
    "print(\"Hello world\")"
   ]
  },
  {
   "cell_type": "code",
   "execution_count": 4,
   "id": "cc33d471",
   "metadata": {},
   "outputs": [
    {
     "data": {
      "text/plain": [
       "'hai all'"
      ]
     },
     "execution_count": 4,
     "metadata": {},
     "output_type": "execute_result"
    }
   ],
   "source": [
    "#this is a comment \n",
    "\"hai all\""
   ]
  },
  {
   "cell_type": "code",
   "execution_count": 5,
   "id": "adc32a04",
   "metadata": {},
   "outputs": [
    {
     "data": {
      "text/plain": [
       "'Nothing...cool!'"
      ]
     },
     "execution_count": 5,
     "metadata": {},
     "output_type": "execute_result"
    }
   ],
   "source": [
    "#how you doing\n",
    "\"Nothing...cool!\""
   ]
  }
 ],
 "metadata": {
  "kernelspec": {
   "display_name": "Python 3 (ipykernel)",
   "language": "python",
   "name": "python3"
  },
  "language_info": {
   "codemirror_mode": {
    "name": "ipython",
    "version": 3
   },
   "file_extension": ".py",
   "mimetype": "text/x-python",
   "name": "python",
   "nbconvert_exporter": "python",
   "pygments_lexer": "ipython3",
   "version": "3.9.13"
  }
 },
 "nbformat": 4,
 "nbformat_minor": 5
}
