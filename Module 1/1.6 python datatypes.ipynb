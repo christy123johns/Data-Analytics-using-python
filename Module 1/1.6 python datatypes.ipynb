{
 "cells": [
  {
   "cell_type": "markdown",
   "id": "ad3b5ec6",
   "metadata": {},
   "source": [
    "# Data types"
   ]
  },
  {
   "cell_type": "markdown",
   "id": "0bc0d7ec",
   "metadata": {},
   "source": [
    "## Numerical data types\n",
    "1.Integers\n",
    "2.Float\n",
    "3.Complex Numbers\n",
    "4.Boolean"
   ]
  },
  {
   "cell_type": "code",
   "execution_count": 5,
   "id": "f5ed98e1",
   "metadata": {},
   "outputs": [
    {
     "data": {
      "text/plain": [
       "int"
      ]
     },
     "execution_count": 5,
     "metadata": {},
     "output_type": "execute_result"
    }
   ],
   "source": [
    "# 1. Integers = are used to represent whole number values.\n",
    "x = 1000\n",
    "b = 10000\n",
    "\n",
    "type(x)\n",
    "type(b)"
   ]
  },
  {
   "cell_type": "code",
   "execution_count": 6,
   "id": "a62ebb60",
   "metadata": {},
   "outputs": [
    {
     "data": {
      "text/plain": [
       "float"
      ]
     },
     "execution_count": 6,
     "metadata": {},
     "output_type": "execute_result"
    }
   ],
   "source": [
    "# 2. Float = data type is used to represent decimal point values.\n",
    "\n",
    "x = 123.5\n",
    "y = 13.13\n",
    "type(x)\n",
    "type(y)"
   ]
  },
  {
   "cell_type": "code",
   "execution_count": 7,
   "id": "c7ade604",
   "metadata": {},
   "outputs": [
    {
     "data": {
      "text/plain": [
       "complex"
      ]
     },
     "execution_count": 7,
     "metadata": {},
     "output_type": "execute_result"
    }
   ],
   "source": [
    "# 3. Complex = numbers are used to represent imaginary values.\n",
    "\n",
    "z = 12+4j\n",
    "type(z)\n",
    "     "
   ]
  },
  {
   "cell_type": "code",
   "execution_count": 8,
   "id": "f569a5f6",
   "metadata": {},
   "outputs": [
    {
     "data": {
      "text/plain": [
       "complex"
      ]
     },
     "execution_count": 8,
     "metadata": {},
     "output_type": "execute_result"
    }
   ],
   "source": [
    "n=14-5j\n",
    "type(n)"
   ]
  },
  {
   "cell_type": "code",
   "execution_count": 9,
   "id": "ea021726",
   "metadata": {},
   "outputs": [
    {
     "name": "stdout",
     "output_type": "stream",
     "text": [
      "True\n"
     ]
    }
   ],
   "source": [
    "# 4. Boolean = is used for categorical output, since the output of boolean is either true or false.\n",
    "\n",
    "Boo = 9>7\n",
    "#Boo is the boolean variable\n",
    "\n",
    "type(Boo)\n",
    "#the output will be bool\n",
    "\n",
    "print(Boo)\n",
    "#this will print true."
   ]
  },
  {
   "cell_type": "code",
   "execution_count": 10,
   "id": "cdb1dcc1",
   "metadata": {},
   "outputs": [
    {
     "data": {
      "text/plain": [
       "bool"
      ]
     },
     "execution_count": 10,
     "metadata": {},
     "output_type": "execute_result"
    }
   ],
   "source": [
    "n=12>8\n",
    "type(n)\n"
   ]
  },
  {
   "cell_type": "code",
   "execution_count": 11,
   "id": "8f976613",
   "metadata": {},
   "outputs": [
    {
     "name": "stdout",
     "output_type": "stream",
     "text": [
      "True\n"
     ]
    }
   ],
   "source": [
    "print(n)"
   ]
  },
  {
   "cell_type": "code",
   "execution_count": 12,
   "id": "ff6b8bae",
   "metadata": {},
   "outputs": [
    {
     "name": "stdout",
     "output_type": "stream",
     "text": [
      "False\n"
     ]
    }
   ],
   "source": [
    "l=20<10\n",
    "print(l)"
   ]
  },
  {
   "cell_type": "code",
   "execution_count": 13,
   "id": "e180a3d3",
   "metadata": {},
   "outputs": [
    {
     "name": "stdout",
     "output_type": "stream",
     "text": [
      "True\n"
     ]
    }
   ],
   "source": [
    "m=20<=20\n",
    "print(m)"
   ]
  },
  {
   "cell_type": "markdown",
   "id": "3721756e",
   "metadata": {},
   "source": [
    "# string"
   ]
  },
  {
   "cell_type": "code",
   "execution_count": 14,
   "id": "6690f2d8",
   "metadata": {},
   "outputs": [
    {
     "data": {
      "text/plain": [
       "'Strategist'"
      ]
     },
     "execution_count": 14,
     "metadata": {},
     "output_type": "execute_result"
    }
   ],
   "source": [
    "#Strings in python are used to represent unicode character values. a single character is also considered as a string.\n",
    "#We denote or declare the string values inside single quotes or double quotes. \n",
    "#To access the values in a string, we use the indexes and square brackets.\n",
    "string = 'Strategist'\n",
    "string"
   ]
  },
  {
   "cell_type": "code",
   "execution_count": 15,
   "id": "af0d4c17",
   "metadata": {},
   "outputs": [
    {
     "ename": "TypeError",
     "evalue": "'str' object is not callable",
     "output_type": "error",
     "traceback": [
      "\u001b[1;31m---------------------------------------------------------------------------\u001b[0m",
      "\u001b[1;31mTypeError\u001b[0m                                 Traceback (most recent call last)",
      "\u001b[1;32m~\\AppData\\Local\\Temp\\ipykernel_10996\\187232681.py\u001b[0m in \u001b[0;36m<module>\u001b[1;34m\u001b[0m\n\u001b[1;32m----> 1\u001b[1;33m \u001b[0mstring\u001b[0m\u001b[1;33m(\u001b[0m\u001b[1;36m2\u001b[0m\u001b[1;33m)\u001b[0m\u001b[1;33m\u001b[0m\u001b[1;33m\u001b[0m\u001b[0m\n\u001b[0m",
      "\u001b[1;31mTypeError\u001b[0m: 'str' object is not callable"
     ]
    }
   ],
   "source": [
    "string(2)"
   ]
  },
  {
   "cell_type": "code",
   "execution_count": 16,
   "id": "7a124cdd",
   "metadata": {},
   "outputs": [
    {
     "data": {
      "text/plain": [
       "'r'"
      ]
     },
     "execution_count": 16,
     "metadata": {},
     "output_type": "execute_result"
    }
   ],
   "source": [
    "string[2]"
   ]
  },
  {
   "cell_type": "code",
   "execution_count": 17,
   "id": "83ed0dc2",
   "metadata": {},
   "outputs": [
    {
     "data": {
      "text/plain": [
       "'e'"
      ]
     },
     "execution_count": 17,
     "metadata": {},
     "output_type": "execute_result"
    }
   ],
   "source": [
    "string[5]"
   ]
  },
  {
   "cell_type": "code",
   "execution_count": 18,
   "id": "38ee9871",
   "metadata": {},
   "outputs": [
    {
     "data": {
      "text/plain": [
       "'S'"
      ]
     },
     "execution_count": 18,
     "metadata": {},
     "output_type": "execute_result"
    }
   ],
   "source": [
    "string[0]"
   ]
  },
  {
   "cell_type": "markdown",
   "id": "b2924199",
   "metadata": {},
   "source": [
    "Basic operations using string"
   ]
  },
  {
   "cell_type": "code",
   "execution_count": 19,
   "id": "cc9c5c95",
   "metadata": {},
   "outputs": [
    {
     "data": {
      "text/plain": [
       "'HAI FROM STRATEGIST'"
      ]
     },
     "execution_count": 19,
     "metadata": {},
     "output_type": "execute_result"
    }
   ],
   "source": [
    "string = 'Hai From Strategist'\n",
    "#will make the letters to uppercase\n",
    "string.upper()"
   ]
  },
  {
   "cell_type": "code",
   "execution_count": 20,
   "id": "f3da31fa",
   "metadata": {},
   "outputs": [
    {
     "data": {
      "text/plain": [
       "'hai from strategist'"
      ]
     },
     "execution_count": 20,
     "metadata": {},
     "output_type": "execute_result"
    }
   ],
   "source": [
    "#will make the letters to lowercase\n",
    "string.lower()"
   ]
  },
  {
   "cell_type": "code",
   "execution_count": 21,
   "id": "f3be8ad0",
   "metadata": {},
   "outputs": [
    {
     "data": {
      "text/plain": [
       "'i From Strateg'"
      ]
     },
     "execution_count": 21,
     "metadata": {},
     "output_type": "execute_result"
    }
   ],
   "source": [
    "#will return the strings starting at index 2 until the index 16.\n",
    "string[2:16]"
   ]
  },
  {
   "cell_type": "markdown",
   "id": "477f5660",
   "metadata": {},
   "source": [
    "# complex data types."
   ]
  },
  {
   "cell_type": "markdown",
   "id": "da793f64",
   "metadata": {},
   "source": [
    "Lists\n",
    "\n",
    "Tuple, set and dictionary are the other collection data type is python.\n",
    "\n",
    "A list is ordered and changeable.\n",
    "\n",
    "To declare a list we use the square brackets."
   ]
  },
  {
   "cell_type": "code",
   "execution_count": 22,
   "id": "333530e5",
   "metadata": {},
   "outputs": [
    {
     "data": {
      "text/plain": [
       "[15, 25, 10, 30]"
      ]
     },
     "execution_count": 22,
     "metadata": {},
     "output_type": "execute_result"
    }
   ],
   "source": [
    "list = [20,15,25,10,30,5,'pinki', 'brownie']\n",
    "#will get the values from index 1 until index 5.\n",
    "list[1:5]"
   ]
  },
  {
   "cell_type": "code",
   "execution_count": 23,
   "id": "0ba02aa7",
   "metadata": {},
   "outputs": [
    {
     "data": {
      "text/plain": [
       "[25, 10, 30, 5]"
      ]
     },
     "execution_count": 23,
     "metadata": {},
     "output_type": "execute_result"
    }
   ],
   "source": [
    "list[2:6]"
   ]
  },
  {
   "cell_type": "code",
   "execution_count": 24,
   "id": "eec61fce",
   "metadata": {},
   "outputs": [
    {
     "data": {
      "text/plain": [
       "[10, 30, 5, 'pinki']"
      ]
     },
     "execution_count": 24,
     "metadata": {},
     "output_type": "execute_result"
    }
   ],
   "source": [
    "list[3:7]"
   ]
  },
  {
   "cell_type": "code",
   "execution_count": 25,
   "id": "28e22995",
   "metadata": {},
   "outputs": [
    {
     "data": {
      "text/plain": [
       "[20, 15, 25, 10, 30, 5, 'zimba', 'brownie']"
      ]
     },
     "execution_count": 25,
     "metadata": {},
     "output_type": "execute_result"
    }
   ],
   "source": [
    "#will replace the value at the index 6.\n",
    "list[6]='zimba'\n",
    "list"
   ]
  },
  {
   "cell_type": "code",
   "execution_count": 26,
   "id": "09c0d32a",
   "metadata": {},
   "outputs": [
    {
     "data": {
      "text/plain": [
       "[20, 15, 25, 10, 30, 5, 'zimba', 'jimmy']"
      ]
     },
     "execution_count": 26,
     "metadata": {},
     "output_type": "execute_result"
    }
   ],
   "source": [
    "list[7]='jimmy'\n",
    "list\n",
    "     "
   ]
  },
  {
   "cell_type": "code",
   "execution_count": 27,
   "id": "2a964e47",
   "metadata": {},
   "outputs": [
    {
     "data": {
      "text/plain": [
       "[20, 15, 25, 10, 30, 5, 'zimba', 'jimmy', 'blacky']"
      ]
     },
     "execution_count": 27,
     "metadata": {},
     "output_type": "execute_result"
    }
   ],
   "source": [
    "#will add the value at the end of the list.\n",
    "list.append('blacky')\n",
    "list"
   ]
  },
  {
   "cell_type": "code",
   "execution_count": 28,
   "id": "e5960c7b",
   "metadata": {},
   "outputs": [
    {
     "data": {
      "text/plain": [
       "[20, 15, 25, 10, 'pekky', 30, 5, 'zimba', 'jimmy', 'blacky']"
      ]
     },
     "execution_count": 28,
     "metadata": {},
     "output_type": "execute_result"
    }
   ],
   "source": [
    "#will add the value at the index 4.\n",
    "list.insert(4,'pekky')\n",
    "list"
   ]
  },
  {
   "cell_type": "code",
   "execution_count": 29,
   "id": "1b5a90e7",
   "metadata": {},
   "outputs": [
    {
     "data": {
      "text/plain": [
       "[20, 15, 25, 10, 'pekky', 30, 'pinki', 5, 'zimba', 'jimmy', 'blacky']"
      ]
     },
     "execution_count": 29,
     "metadata": {},
     "output_type": "execute_result"
    }
   ],
   "source": [
    "list.insert(6,'pinki')\n",
    "list"
   ]
  },
  {
   "cell_type": "code",
   "execution_count": 30,
   "id": "8c039a63",
   "metadata": {},
   "outputs": [
    {
     "data": {
      "text/plain": [
       "['France', 'Germany', 'Australia', 'UK', 'Canada']"
      ]
     },
     "execution_count": 30,
     "metadata": {},
     "output_type": "execute_result"
    }
   ],
   "source": [
    "list1=['France', 'Germany', 'Australia', 'UK', 'Canada']\n",
    "list1"
   ]
  },
  {
   "cell_type": "code",
   "execution_count": 31,
   "id": "7fc3df98",
   "metadata": {},
   "outputs": [
    {
     "data": {
      "text/plain": [
       "['France', 'Germany', 'Australia', 'USA', 'UK', 'Canada']"
      ]
     },
     "execution_count": 31,
     "metadata": {},
     "output_type": "execute_result"
    }
   ],
   "source": [
    "list1.insert(3,\"USA\")\n",
    "list1"
   ]
  },
  {
   "cell_type": "markdown",
   "id": "1b84d837",
   "metadata": {},
   "source": [
    "List Operations In Python\n",
    "\n",
    "append\n",
    "\n",
    "clear\n",
    "\n",
    "copy\n",
    "\n",
    "count\n",
    "\n",
    "extend\n",
    "\n",
    "insert\n",
    "\n",
    "index\n",
    "\n",
    "pop\n",
    "\n",
    "remove\n",
    "\n",
    "reverse\n",
    "\n",
    "sort"
   ]
  },
  {
   "cell_type": "code",
   "execution_count": 32,
   "id": "c40dc53c",
   "metadata": {},
   "outputs": [],
   "source": [
    "A=[10, 20, 30, 40, 50, 60, 70, 80, 90, 100]\n",
    "     "
   ]
  },
  {
   "cell_type": "code",
   "execution_count": 33,
   "id": "2f70de89",
   "metadata": {},
   "outputs": [
    {
     "data": {
      "text/plain": [
       "[10, 20, 30, 40, 50, 60, 70, 80, 90, 100, 88]"
      ]
     },
     "execution_count": 33,
     "metadata": {},
     "output_type": "execute_result"
    }
   ],
   "source": [
    "#Append\n",
    "#the output will have 88 at the end of the list.\n",
    "\n",
    "A.append(88)\n",
    "A"
   ]
  },
  {
   "cell_type": "code",
   "execution_count": 34,
   "id": "6d48a879",
   "metadata": {},
   "outputs": [
    {
     "data": {
      "text/plain": [
       "[]"
      ]
     },
     "execution_count": 34,
     "metadata": {},
     "output_type": "execute_result"
    }
   ],
   "source": [
    "#Clear\n",
    "#this will clear the list or empty the list.\n",
    "\n",
    "A.clear()\n",
    "A"
   ]
  },
  {
   "cell_type": "code",
   "execution_count": 35,
   "id": "cd30863e",
   "metadata": {},
   "outputs": [
    {
     "data": {
      "text/plain": [
       "[]"
      ]
     },
     "execution_count": 35,
     "metadata": {},
     "output_type": "execute_result"
    }
   ],
   "source": [
    "#Copy\n",
    "#it makes the copy of the list.\n",
    "A.copy()\n",
    "A"
   ]
  },
  {
   "cell_type": "code",
   "execution_count": 36,
   "id": "d4495e51",
   "metadata": {},
   "outputs": [],
   "source": [
    "A=[10, 20, 30, 40, 50, 60, 70, 80, 90, 100]\n",
    "     "
   ]
  },
  {
   "cell_type": "code",
   "execution_count": 37,
   "id": "a85b0af1",
   "metadata": {},
   "outputs": [
    {
     "data": {
      "text/plain": [
       "[10, 20, 30, 40, 50, 60, 70, 80, 90, 100, 10, 20]"
      ]
     },
     "execution_count": 37,
     "metadata": {},
     "output_type": "execute_result"
    }
   ],
   "source": [
    "#Extend\n",
    "B=[10,20]\n",
    "#this will add the values in this list from the iterable object range.\n",
    "A.extend(B)\n",
    "A"
   ]
  },
  {
   "cell_type": "code",
   "execution_count": 38,
   "id": "9481efdf",
   "metadata": {},
   "outputs": [
    {
     "data": {
      "text/plain": [
       "[10, 'apple', 20, 30, 40, 50, 60, 70, 80, 90, 100, 10, 20]"
      ]
     },
     "execution_count": 38,
     "metadata": {},
     "output_type": "execute_result"
    }
   ],
   "source": [
    "#Insert\n",
    "#this will add the value at the index value given\n",
    "A.insert(1,'apple')\n",
    "A"
   ]
  },
  {
   "cell_type": "code",
   "execution_count": 39,
   "id": "8c81b9e0",
   "metadata": {},
   "outputs": [
    {
     "data": {
      "text/plain": [
       "[10, 'apple', 20, 30, 40, 50, 60, 70, 80, 90, 100, 10]"
      ]
     },
     "execution_count": 39,
     "metadata": {},
     "output_type": "execute_result"
    }
   ],
   "source": [
    "#Pop\n",
    "#this will pop the value from the  end of the list\n",
    "A.pop()\n",
    "A"
   ]
  },
  {
   "cell_type": "code",
   "execution_count": 40,
   "id": "09597f83",
   "metadata": {},
   "outputs": [
    {
     "data": {
      "text/plain": [
       "[10, 'apple', 20, 30, 40, 50, 60, 80, 90, 100, 10]"
      ]
     },
     "execution_count": 40,
     "metadata": {},
     "output_type": "execute_result"
    }
   ],
   "source": [
    "#Remove\n",
    "#this will remove value from the list\n",
    "A.remove(70)\n",
    "A"
   ]
  },
  {
   "cell_type": "code",
   "execution_count": 41,
   "id": "1fbd4302",
   "metadata": {},
   "outputs": [
    {
     "data": {
      "text/plain": [
       "[10, 100, 90, 80, 60, 50, 40, 30, 20, 'apple', 10]"
      ]
     },
     "execution_count": 41,
     "metadata": {},
     "output_type": "execute_result"
    }
   ],
   "source": [
    "#Reverse\n",
    "\n",
    "#this will reverse the list.\n",
    "A.reverse()\n",
    "A\n"
   ]
  },
  {
   "cell_type": "code",
   "execution_count": 42,
   "id": "5f27e116",
   "metadata": {},
   "outputs": [
    {
     "data": {
      "text/plain": [
       "[10, 100, 90, 80, 60, 50, 40, 30, 20, 10]"
      ]
     },
     "execution_count": 42,
     "metadata": {},
     "output_type": "execute_result"
    }
   ],
   "source": [
    "A.pop(9)\n",
    "A"
   ]
  },
  {
   "cell_type": "code",
   "execution_count": 43,
   "id": "a223e3f9",
   "metadata": {},
   "outputs": [
    {
     "data": {
      "text/plain": [
       "[10, 10, 20, 30, 40, 50, 60, 80, 90, 100]"
      ]
     },
     "execution_count": 43,
     "metadata": {},
     "output_type": "execute_result"
    }
   ],
   "source": [
    "#Sort\n",
    "#it will get a sorted list as a result.\n",
    "A.sort()\n",
    "A"
   ]
  },
  {
   "cell_type": "code",
   "execution_count": 44,
   "id": "7faac275",
   "metadata": {},
   "outputs": [
    {
     "data": {
      "text/plain": [
       "[10, 10, 20, 30, 40, 50]"
      ]
     },
     "execution_count": 44,
     "metadata": {},
     "output_type": "execute_result"
    }
   ],
   "source": [
    "#slicing list \n",
    "A[1:3]\n",
    "\n",
    "#it will get all the numbers starting from index 5 to index 10.\n",
    "\n",
    "A[5:10]\n",
    "#this will print all the numbers starting from index 2 until the end of the list.\n",
    "A[2:]\n",
    "\n",
    "#this will print all the numbers from index 0 until the index 6.\n",
    "A[0:6]\n",
    "     "
   ]
  },
  {
   "cell_type": "markdown",
   "id": "9529ebd6",
   "metadata": {},
   "source": [
    "# Tuples"
   ]
  },
  {
   "cell_type": "markdown",
   "id": "ecf0e388",
   "metadata": {},
   "source": [
    "collection which is unchangeable or immutable\n",
    "\n",
    "To declare a tuple we use the round brackets."
   ]
  },
  {
   "cell_type": "code",
   "execution_count": 45,
   "id": "1d5a84d7",
   "metadata": {},
   "outputs": [
    {
     "data": {
      "text/plain": [
       "7"
      ]
     },
     "execution_count": 45,
     "metadata": {},
     "output_type": "execute_result"
    }
   ],
   "source": [
    "tuple=(10,20,10,30,20,40,30,50,30)\n",
    "#to count the number of elements\n",
    "tuple.count(10)\n",
    "tuple.count(30)\n",
    "\n",
    "#to find the index\n",
    "tuple.index(50)"
   ]
  },
  {
   "cell_type": "code",
   "execution_count": 46,
   "id": "c76a77f0",
   "metadata": {},
   "outputs": [
    {
     "data": {
      "text/plain": [
       "3"
      ]
     },
     "execution_count": 46,
     "metadata": {},
     "output_type": "execute_result"
    }
   ],
   "source": [
    "tuple=(10,20,10,30,20,40,30,50,30)\n",
    "#to count the number of elements\n",
    "tuple.count(10)\n",
    "tuple.count(30)"
   ]
  },
  {
   "cell_type": "code",
   "execution_count": 47,
   "id": "bb8537a3",
   "metadata": {},
   "outputs": [
    {
     "data": {
      "text/plain": [
       "2"
      ]
     },
     "execution_count": 47,
     "metadata": {},
     "output_type": "execute_result"
    }
   ],
   "source": [
    "tuple.count(20)"
   ]
  },
  {
   "cell_type": "code",
   "execution_count": 48,
   "id": "54adaaa4",
   "metadata": {},
   "outputs": [
    {
     "data": {
      "text/plain": [
       "3"
      ]
     },
     "execution_count": 48,
     "metadata": {},
     "output_type": "execute_result"
    }
   ],
   "source": [
    "tuple.count(30)\n",
    "tuple.index(30)"
   ]
  },
  {
   "cell_type": "markdown",
   "id": "85fdb3db",
   "metadata": {},
   "source": [
    "# sets"
   ]
  },
  {
   "cell_type": "markdown",
   "id": "12bf16b8",
   "metadata": {},
   "source": [
    "A set is a collection which is unordered\n",
    "\n",
    "To declare a set in python we use the curly brackets."
   ]
  },
  {
   "cell_type": "code",
   "execution_count": 49,
   "id": "f14df38a",
   "metadata": {},
   "outputs": [
    {
     "name": "stdout",
     "output_type": "stream",
     "text": [
      "50\n",
      "20\n",
      "40\n",
      "10\n",
      "30\n"
     ]
    }
   ],
   "source": [
    "set={10,20,10,30,20,40,30,50,30}\n",
    "#will get all the values.\n",
    "for x in set:\n",
    " print(x)"
   ]
  },
  {
   "cell_type": "code",
   "execution_count": 50,
   "id": "c21ceb50",
   "metadata": {},
   "outputs": [
    {
     "name": "stdout",
     "output_type": "stream",
     "text": [
      "50\n",
      "20\n",
      "40\n",
      "10\n",
      "30\n"
     ]
    }
   ],
   "source": [
    "for x in set:\n",
    "  print(x)"
   ]
  },
  {
   "cell_type": "code",
   "execution_count": 51,
   "id": "1468718c",
   "metadata": {},
   "outputs": [
    {
     "data": {
      "text/plain": [
       "True"
      ]
     },
     "execution_count": 51,
     "metadata": {},
     "output_type": "execute_result"
    }
   ],
   "source": [
    "20 in set\n",
    "#will  return true if the value is in the set."
   ]
  },
  {
   "cell_type": "code",
   "execution_count": 52,
   "id": "90d0c1ee",
   "metadata": {},
   "outputs": [
    {
     "data": {
      "text/plain": [
       "False"
      ]
     },
     "execution_count": 52,
     "metadata": {},
     "output_type": "execute_result"
    }
   ],
   "source": [
    "60 in set"
   ]
  },
  {
   "cell_type": "code",
   "execution_count": 53,
   "id": "d313a9c6",
   "metadata": {},
   "outputs": [
    {
     "data": {
      "text/plain": [
       "{10, 20, 30, 40, 50, 'pekky'}"
      ]
     },
     "execution_count": 53,
     "metadata": {},
     "output_type": "execute_result"
    }
   ],
   "source": [
    "#add a value in a set\n",
    "set.add('pekky')\n",
    "set\n",
    "     "
   ]
  },
  {
   "cell_type": "code",
   "execution_count": 54,
   "id": "28545bd7",
   "metadata": {},
   "outputs": [
    {
     "data": {
      "text/plain": [
       "{10, 100, 20, 30, 40, 50, 'pekky'}"
      ]
     },
     "execution_count": 54,
     "metadata": {},
     "output_type": "execute_result"
    }
   ],
   "source": [
    "set.add(100)\n",
    "set"
   ]
  },
  {
   "cell_type": "code",
   "execution_count": 55,
   "id": "31ebb42e",
   "metadata": {},
   "outputs": [
    {
     "data": {
      "text/plain": [
       "True"
      ]
     },
     "execution_count": 55,
     "metadata": {},
     "output_type": "execute_result"
    }
   ],
   "source": [
    "100 in set"
   ]
  },
  {
   "cell_type": "code",
   "execution_count": 56,
   "id": "aee56abb",
   "metadata": {},
   "outputs": [
    {
     "data": {
      "text/plain": [
       "{10, 20, 30, 40, 50, 100}"
      ]
     },
     "execution_count": 56,
     "metadata": {},
     "output_type": "execute_result"
    }
   ],
   "source": [
    "#to remove an item from a set\n",
    "set.remove('pekky')\n",
    "set"
   ]
  },
  {
   "cell_type": "code",
   "execution_count": 57,
   "id": "c377e11e",
   "metadata": {},
   "outputs": [
    {
     "data": {
      "text/plain": [
       "False"
      ]
     },
     "execution_count": 57,
     "metadata": {},
     "output_type": "execute_result"
    }
   ],
   "source": [
    "set1={1,2,3}\n",
    "set2={2,3,4}\n",
    "set1.issubset(set2)\n",
    "#to check subset or not"
   ]
  },
  {
   "cell_type": "code",
   "execution_count": 58,
   "id": "bba5c1b4",
   "metadata": {},
   "outputs": [
    {
     "data": {
      "text/plain": [
       "{1, 2, 3, 4}"
      ]
     },
     "execution_count": 58,
     "metadata": {},
     "output_type": "execute_result"
    }
   ],
   "source": [
    "#this will return a set with the union of the two sets.\n",
    "set1.union(set2)"
   ]
  },
  {
   "cell_type": "markdown",
   "id": "1a66d888",
   "metadata": {},
   "source": [
    "# Dictionary"
   ]
  },
  {
   "cell_type": "code",
   "execution_count": 59,
   "id": "cec9a885",
   "metadata": {},
   "outputs": [
    {
     "data": {
      "text/plain": [
       "{'Name': 'Christy', 'Email': 'kichu2gmail.com', 'Phone number': '7000070000'}"
      ]
     },
     "execution_count": 59,
     "metadata": {},
     "output_type": "execute_result"
    }
   ],
   "source": [
    "# we created a dictionary now, with key: name, email, phone number\n",
    "# and values christy, kichu@gmail.com, 7000070000\n",
    "dict1={\"Name\" :\"Christy\",\n",
    "       \"Email\" :\"kichu2gmail.com\",\n",
    "       \"Phone number\": \"7000070000\"}\n",
    "dict1"
   ]
  },
  {
   "cell_type": "code",
   "execution_count": 60,
   "id": "20f64782",
   "metadata": {},
   "outputs": [
    {
     "data": {
      "text/plain": [
       "'7000070000'"
      ]
     },
     "execution_count": 60,
     "metadata": {},
     "output_type": "execute_result"
    }
   ],
   "source": [
    "# now to seperately call each key from the dictionary we can use the code\n",
    "a=dict1['Phone number']\n",
    "a"
   ]
  },
  {
   "cell_type": "code",
   "execution_count": 61,
   "id": "a73c32b9",
   "metadata": {},
   "outputs": [
    {
     "name": "stdout",
     "output_type": "stream",
     "text": [
      "{'Name': 'Catherine', 'Email': 'kichu2gmail.com', 'Phone number': '7000070000'}\n"
     ]
    }
   ],
   "source": [
    "# change value in the dictionary\n",
    "dict1[\"Name\"]=\"Catherine\"\n",
    "print(dict1)\n"
   ]
  },
  {
   "cell_type": "code",
   "execution_count": 62,
   "id": "aed16683",
   "metadata": {},
   "outputs": [
    {
     "name": "stdout",
     "output_type": "stream",
     "text": [
      "{'Name': 'Catherine', 'Email': 'kathieee2gmail.com', 'Phone number': '7000070000'}\n"
     ]
    }
   ],
   "source": [
    "dict1[\"Email\"]=\"kathieee2gmail.com\"\n",
    "print(dict1)"
   ]
  },
  {
   "cell_type": "code",
   "execution_count": 63,
   "id": "f0059f11",
   "metadata": {},
   "outputs": [
    {
     "name": "stdout",
     "output_type": "stream",
     "text": [
      "Name\n",
      "Email\n",
      "Phone number\n"
     ]
    }
   ],
   "source": [
    "#To get Key words headings\n",
    "for x in dict1:\n",
    "  print(x)"
   ]
  },
  {
   "cell_type": "code",
   "execution_count": 64,
   "id": "8c35601f",
   "metadata": {},
   "outputs": [
    {
     "name": "stdout",
     "output_type": "stream",
     "text": [
      "Catherine\n",
      "kathieee2gmail.com\n",
      "7000070000\n"
     ]
    }
   ],
   "source": [
    "#To get value \n",
    "for x in dict1:\n",
    "  print(dict1[x])"
   ]
  },
  {
   "cell_type": "code",
   "execution_count": 65,
   "id": "d264fad6",
   "metadata": {},
   "outputs": [
    {
     "name": "stdout",
     "output_type": "stream",
     "text": [
      "Name Catherine\n",
      "Email kathieee2gmail.com\n",
      "Phone number 7000070000\n"
     ]
    }
   ],
   "source": [
    "# to get both key and values\n",
    "for x,y in dict1.items():\n",
    "  print(x,y)"
   ]
  },
  {
   "cell_type": "code",
   "execution_count": 66,
   "id": "bcace259",
   "metadata": {},
   "outputs": [
    {
     "name": "stdout",
     "output_type": "stream",
     "text": [
      "3\n"
     ]
    }
   ],
   "source": [
    "# to get the length of dictionary\n",
    "print(len(dict1))"
   ]
  },
  {
   "cell_type": "code",
   "execution_count": 67,
   "id": "9bb09e92",
   "metadata": {},
   "outputs": [
    {
     "name": "stdout",
     "output_type": "stream",
     "text": [
      "{'Name': 'Catherine', 'Email': 'kathieee2gmail.com', 'Phone number': '7000070000', 'Age': 20}\n"
     ]
    }
   ],
   "source": [
    "# to add some more key and values into dictionary\n",
    "dict1[\"Age\"]=20\n",
    "print(dict1)"
   ]
  },
  {
   "cell_type": "code",
   "execution_count": 68,
   "id": "b638e28e",
   "metadata": {},
   "outputs": [
    {
     "name": "stdout",
     "output_type": "stream",
     "text": [
      "4\n"
     ]
    }
   ],
   "source": [
    "print(len(dict1))"
   ]
  },
  {
   "cell_type": "code",
   "execution_count": 69,
   "id": "3f9bb217",
   "metadata": {},
   "outputs": [
    {
     "name": "stdout",
     "output_type": "stream",
     "text": [
      "{'Name': 'Catherine', 'Email': 'kathieee2gmail.com', 'Phone number': '7000070000', 'Age': 20, 'Place': 'Angamaly'}\n"
     ]
    }
   ],
   "source": [
    "dict1[\"Place\"]=\"Angamaly\"\n",
    "print(dict1)"
   ]
  },
  {
   "cell_type": "code",
   "execution_count": 70,
   "id": "02fb0f1a",
   "metadata": {},
   "outputs": [
    {
     "name": "stdout",
     "output_type": "stream",
     "text": [
      "5\n"
     ]
    }
   ],
   "source": [
    "print(len(dict1))"
   ]
  },
  {
   "cell_type": "code",
   "execution_count": 71,
   "id": "4cd4fd8f",
   "metadata": {},
   "outputs": [
    {
     "data": {
      "text/plain": [
       "{'Name': 'Catherine',\n",
       " 'Phone number': '7000070000',\n",
       " 'Age': 20,\n",
       " 'Place': 'Angamaly'}"
      ]
     },
     "execution_count": 71,
     "metadata": {},
     "output_type": "execute_result"
    }
   ],
   "source": [
    "#to remove value \n",
    "dict1.pop(\"Email\")\n",
    "dict1      "
   ]
  },
  {
   "cell_type": "code",
   "execution_count": 72,
   "id": "1c6fe65b",
   "metadata": {},
   "outputs": [
    {
     "data": {
      "text/plain": [
       "{'Name': 'Catherine', 'Phone number': '7000070000', 'Age': 20}"
      ]
     },
     "execution_count": 72,
     "metadata": {},
     "output_type": "execute_result"
    }
   ],
   "source": [
    "#to delet from dictionary\n",
    "del dict1[\"Place\"]\n",
    "dict1"
   ]
  },
  {
   "cell_type": "code",
   "execution_count": null,
   "id": "5b523776",
   "metadata": {},
   "outputs": [],
   "source": []
  },
  {
   "cell_type": "code",
   "execution_count": null,
   "id": "a28edaf5",
   "metadata": {},
   "outputs": [],
   "source": []
  },
  {
   "cell_type": "code",
   "execution_count": null,
   "id": "dc6cb4a7",
   "metadata": {},
   "outputs": [],
   "source": []
  }
 ],
 "metadata": {
  "kernelspec": {
   "display_name": "Python 3 (ipykernel)",
   "language": "python",
   "name": "python3"
  },
  "language_info": {
   "codemirror_mode": {
    "name": "ipython",
    "version": 3
   },
   "file_extension": ".py",
   "mimetype": "text/x-python",
   "name": "python",
   "nbconvert_exporter": "python",
   "pygments_lexer": "ipython3",
   "version": "3.9.13"
  }
 },
 "nbformat": 4,
 "nbformat_minor": 5
}
