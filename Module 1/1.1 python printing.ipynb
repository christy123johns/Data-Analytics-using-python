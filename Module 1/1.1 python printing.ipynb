{
 "cells": [
  {
   "cell_type": "markdown",
   "id": "90514c69",
   "metadata": {},
   "source": [
    "# First code in python"
   ]
  },
  {
   "cell_type": "code",
   "execution_count": 1,
   "id": "b173dae4",
   "metadata": {},
   "outputs": [
    {
     "name": "stdout",
     "output_type": "stream",
     "text": [
      "Hello everyone\n"
     ]
    }
   ],
   "source": [
    "print('Hello everyone')"
   ]
  },
  {
   "cell_type": "code",
   "execution_count": 1,
   "id": "e60b41a7",
   "metadata": {},
   "outputs": [
    {
     "name": "stdout",
     "output_type": "stream",
     "text": [
      "Hello world\n"
     ]
    }
   ],
   "source": [
    "print(\"Hello world\")"
   ]
  },
  {
   "cell_type": "markdown",
   "id": "4e01ff28",
   "metadata": {},
   "source": [
    "# christy johns"
   ]
  },
  {
   "cell_type": "markdown",
   "id": "3a96d138",
   "metadata": {},
   "source": [
    "python"
   ]
  },
  {
   "cell_type": "code",
   "execution_count": null,
   "id": "5932a31c",
   "metadata": {},
   "outputs": [],
   "source": []
  }
 ],
 "metadata": {
  "kernelspec": {
   "display_name": "Python 3 (ipykernel)",
   "language": "python",
   "name": "python3"
  },
  "language_info": {
   "codemirror_mode": {
    "name": "ipython",
    "version": 3
   },
   "file_extension": ".py",
   "mimetype": "text/x-python",
   "name": "python",
   "nbconvert_exporter": "python",
   "pygments_lexer": "ipython3",
   "version": "3.9.13"
  }
 },
 "nbformat": 4,
 "nbformat_minor": 5
}
