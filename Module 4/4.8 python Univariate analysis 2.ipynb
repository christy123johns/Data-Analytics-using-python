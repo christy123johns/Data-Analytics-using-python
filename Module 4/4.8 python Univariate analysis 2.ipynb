{
 "cells": [
  {
   "cell_type": "markdown",
   "id": "cc1b11e8",
   "metadata": {},
   "source": [
    "# Univariate analysis"
   ]
  },
  {
   "cell_type": "markdown",
   "id": "4349067a",
   "metadata": {},
   "source": [
    "## Measure of Dispersion"
   ]
  },
  {
   "cell_type": "markdown",
   "id": "a7a1b1ef",
   "metadata": {},
   "source": [
    "1. Variance\n",
    "2. Standard deviation"
   ]
  },
  {
   "cell_type": "code",
   "execution_count": 1,
   "id": "0598303b",
   "metadata": {},
   "outputs": [],
   "source": [
    "# variance = how far numbers are spread out from their mean\n",
    "# std dev =  It is calculated as the square root of variance"
   ]
  },
  {
   "cell_type": "markdown",
   "id": "a213911c",
   "metadata": {},
   "source": [
    "A low standard deviation indicates that the values tend to be close to the mean, while a high standard deviation indicates that the values are spread out over a wider range"
   ]
  },
  {
   "cell_type": "code",
   "execution_count": 2,
   "id": "77c791f0",
   "metadata": {},
   "outputs": [],
   "source": [
    "import numpy as np\n",
    "import pandas as pd"
   ]
  },
  {
   "cell_type": "code",
   "execution_count": 3,
   "id": "ae72cb87",
   "metadata": {},
   "outputs": [
    {
     "data": {
      "text/html": [
       "<div>\n",
       "<style scoped>\n",
       "    .dataframe tbody tr th:only-of-type {\n",
       "        vertical-align: middle;\n",
       "    }\n",
       "\n",
       "    .dataframe tbody tr th {\n",
       "        vertical-align: top;\n",
       "    }\n",
       "\n",
       "    .dataframe thead th {\n",
       "        text-align: right;\n",
       "    }\n",
       "</style>\n",
       "<table border=\"1\" class=\"dataframe\">\n",
       "  <thead>\n",
       "    <tr style=\"text-align: right;\">\n",
       "      <th></th>\n",
       "      <th>Transaction_date</th>\n",
       "      <th>Transaction_ID</th>\n",
       "      <th>Gender</th>\n",
       "      <th>Age</th>\n",
       "      <th>Marital_status</th>\n",
       "      <th>State_names</th>\n",
       "      <th>Segment</th>\n",
       "      <th>Employees_status</th>\n",
       "      <th>Payment_method</th>\n",
       "      <th>Amount_spent</th>\n",
       "    </tr>\n",
       "  </thead>\n",
       "  <tbody>\n",
       "    <tr>\n",
       "      <th>0</th>\n",
       "      <td>2019-01-01</td>\n",
       "      <td>151200</td>\n",
       "      <td>Female</td>\n",
       "      <td>19</td>\n",
       "      <td>Single</td>\n",
       "      <td>Kansas</td>\n",
       "      <td>Basic</td>\n",
       "      <td>Unemployment</td>\n",
       "      <td>Other</td>\n",
       "      <td>2051.36</td>\n",
       "    </tr>\n",
       "    <tr>\n",
       "      <th>1</th>\n",
       "      <td>2019-01-01</td>\n",
       "      <td>151201</td>\n",
       "      <td>Male</td>\n",
       "      <td>49</td>\n",
       "      <td>Single</td>\n",
       "      <td>Illinois</td>\n",
       "      <td>Basic</td>\n",
       "      <td>self-employed</td>\n",
       "      <td>Card</td>\n",
       "      <td>544.04</td>\n",
       "    </tr>\n",
       "    <tr>\n",
       "      <th>2</th>\n",
       "      <td>2019-01-01</td>\n",
       "      <td>151202</td>\n",
       "      <td>Male</td>\n",
       "      <td>63</td>\n",
       "      <td>Married</td>\n",
       "      <td>New Mexico</td>\n",
       "      <td>Basic</td>\n",
       "      <td>workers</td>\n",
       "      <td>PayPal</td>\n",
       "      <td>1572.60</td>\n",
       "    </tr>\n",
       "    <tr>\n",
       "      <th>3</th>\n",
       "      <td>2019-01-01</td>\n",
       "      <td>151203</td>\n",
       "      <td>Female</td>\n",
       "      <td>18</td>\n",
       "      <td>Single</td>\n",
       "      <td>Virginia</td>\n",
       "      <td>Platinum</td>\n",
       "      <td>workers</td>\n",
       "      <td>Card</td>\n",
       "      <td>1199.79</td>\n",
       "    </tr>\n",
       "  </tbody>\n",
       "</table>\n",
       "</div>"
      ],
      "text/plain": [
       "  Transaction_date  Transaction_ID  Gender  Age Marital_status State_names  \\\n",
       "0       2019-01-01          151200  Female   19         Single      Kansas   \n",
       "1       2019-01-01          151201    Male   49         Single    Illinois   \n",
       "2       2019-01-01          151202    Male   63        Married  New Mexico   \n",
       "3       2019-01-01          151203  Female   18         Single    Virginia   \n",
       "\n",
       "    Segment Employees_status Payment_method  Amount_spent  \n",
       "0     Basic     Unemployment          Other       2051.36  \n",
       "1     Basic    self-employed           Card        544.04  \n",
       "2     Basic          workers         PayPal       1572.60  \n",
       "3  Platinum          workers           Card       1199.79  "
      ]
     },
     "execution_count": 3,
     "metadata": {},
     "output_type": "execute_result"
    }
   ],
   "source": [
    "# read file\n",
    "\n",
    "df = pd.read_excel('Online_Store_customer_data.xlsx')\n",
    "df.head(4)"
   ]
  },
  {
   "cell_type": "code",
   "execution_count": 4,
   "id": "6e10fbf9",
   "metadata": {},
   "outputs": [],
   "source": [
    "# calculate variance\n",
    "var = df['Age'].var()\n",
    "\n",
    "# Calculate standard deviation\n",
    "std = df['Age'].std()"
   ]
  },
  {
   "cell_type": "code",
   "execution_count": 5,
   "id": "0d4f3460",
   "metadata": {},
   "outputs": [
    {
     "name": "stdout",
     "output_type": "stream",
     "text": [
      " Variance of Age : 296.584\n",
      " Standard deviation of Age : 17.22\n"
     ]
    }
   ],
   "source": [
    "print(f' Variance of Age : {var:.3f}')\n",
    "print(f\" Standard deviation of Age : {std:.2f}\")"
   ]
  },
  {
   "cell_type": "code",
   "execution_count": 6,
   "id": "3d34ef9c",
   "metadata": {},
   "outputs": [
    {
     "name": "stdout",
     "output_type": "stream",
     "text": [
      " Variance of Amount_spent : 751325.01\n",
      " Standard deviation of Amount_spent : 866.79\n"
     ]
    }
   ],
   "source": [
    "# calculate variance\n",
    "var = df['Amount_spent'].var()\n",
    "\n",
    "# Calculate standard deviation\n",
    "std = df['Amount_spent'].std()\n",
    "\n",
    "print(f' Variance of Amount_spent : {var:.2f}')\n",
    "print(f\" Standard deviation of Amount_spent : {std:.2f}\")"
   ]
  },
  {
   "cell_type": "code",
   "execution_count": 7,
   "id": "5e7af9e6",
   "metadata": {},
   "outputs": [
    {
     "data": {
      "text/html": [
       "<div>\n",
       "<style scoped>\n",
       "    .dataframe tbody tr th:only-of-type {\n",
       "        vertical-align: middle;\n",
       "    }\n",
       "\n",
       "    .dataframe tbody tr th {\n",
       "        vertical-align: top;\n",
       "    }\n",
       "\n",
       "    .dataframe thead th {\n",
       "        text-align: right;\n",
       "    }\n",
       "</style>\n",
       "<table border=\"1\" class=\"dataframe\">\n",
       "  <thead>\n",
       "    <tr style=\"text-align: right;\">\n",
       "      <th></th>\n",
       "      <th>Transaction_ID</th>\n",
       "      <th>Age</th>\n",
       "      <th>Amount_spent</th>\n",
       "    </tr>\n",
       "  </thead>\n",
       "  <tbody>\n",
       "    <tr>\n",
       "      <th>count</th>\n",
       "      <td>150.000000</td>\n",
       "      <td>150.000000</td>\n",
       "      <td>150.000000</td>\n",
       "    </tr>\n",
       "    <tr>\n",
       "      <th>mean</th>\n",
       "      <td>151367.573333</td>\n",
       "      <td>45.920000</td>\n",
       "      <td>1544.820933</td>\n",
       "    </tr>\n",
       "    <tr>\n",
       "      <th>std</th>\n",
       "      <td>125.167289</td>\n",
       "      <td>17.221619</td>\n",
       "      <td>866.790063</td>\n",
       "    </tr>\n",
       "    <tr>\n",
       "      <th>min</th>\n",
       "      <td>151200.000000</td>\n",
       "      <td>15.000000</td>\n",
       "      <td>15.370000</td>\n",
       "    </tr>\n",
       "    <tr>\n",
       "      <th>25%</th>\n",
       "      <td>151284.250000</td>\n",
       "      <td>33.000000</td>\n",
       "      <td>807.395000</td>\n",
       "    </tr>\n",
       "    <tr>\n",
       "      <th>50%</th>\n",
       "      <td>151332.500000</td>\n",
       "      <td>46.000000</td>\n",
       "      <td>1591.365000</td>\n",
       "    </tr>\n",
       "    <tr>\n",
       "      <th>75%</th>\n",
       "      <td>151476.750000</td>\n",
       "      <td>59.000000</td>\n",
       "      <td>2413.275000</td>\n",
       "    </tr>\n",
       "    <tr>\n",
       "      <th>max</th>\n",
       "      <td>151585.000000</td>\n",
       "      <td>77.000000</td>\n",
       "      <td>2999.980000</td>\n",
       "    </tr>\n",
       "  </tbody>\n",
       "</table>\n",
       "</div>"
      ],
      "text/plain": [
       "       Transaction_ID         Age  Amount_spent\n",
       "count      150.000000  150.000000    150.000000\n",
       "mean    151367.573333   45.920000   1544.820933\n",
       "std        125.167289   17.221619    866.790063\n",
       "min     151200.000000   15.000000     15.370000\n",
       "25%     151284.250000   33.000000    807.395000\n",
       "50%     151332.500000   46.000000   1591.365000\n",
       "75%     151476.750000   59.000000   2413.275000\n",
       "max     151585.000000   77.000000   2999.980000"
      ]
     },
     "execution_count": 7,
     "metadata": {},
     "output_type": "execute_result"
    }
   ],
   "source": [
    "df.describe()"
   ]
  },
  {
   "cell_type": "code",
   "execution_count": 8,
   "id": "159b006f",
   "metadata": {},
   "outputs": [
    {
     "data": {
      "text/html": [
       "<div>\n",
       "<style scoped>\n",
       "    .dataframe tbody tr th:only-of-type {\n",
       "        vertical-align: middle;\n",
       "    }\n",
       "\n",
       "    .dataframe tbody tr th {\n",
       "        vertical-align: top;\n",
       "    }\n",
       "\n",
       "    .dataframe thead th {\n",
       "        text-align: right;\n",
       "    }\n",
       "</style>\n",
       "<table border=\"1\" class=\"dataframe\">\n",
       "  <thead>\n",
       "    <tr style=\"text-align: right;\">\n",
       "      <th></th>\n",
       "      <th>count</th>\n",
       "      <th>mean</th>\n",
       "      <th>std</th>\n",
       "      <th>min</th>\n",
       "      <th>25%</th>\n",
       "      <th>50%</th>\n",
       "      <th>75%</th>\n",
       "      <th>max</th>\n",
       "    </tr>\n",
       "  </thead>\n",
       "  <tbody>\n",
       "    <tr>\n",
       "      <th>Transaction_ID</th>\n",
       "      <td>150.0</td>\n",
       "      <td>151367.573333</td>\n",
       "      <td>125.167289</td>\n",
       "      <td>151200.00</td>\n",
       "      <td>151284.250</td>\n",
       "      <td>151332.500</td>\n",
       "      <td>151476.750</td>\n",
       "      <td>151585.00</td>\n",
       "    </tr>\n",
       "    <tr>\n",
       "      <th>Age</th>\n",
       "      <td>150.0</td>\n",
       "      <td>45.920000</td>\n",
       "      <td>17.221619</td>\n",
       "      <td>15.00</td>\n",
       "      <td>33.000</td>\n",
       "      <td>46.000</td>\n",
       "      <td>59.000</td>\n",
       "      <td>77.00</td>\n",
       "    </tr>\n",
       "    <tr>\n",
       "      <th>Amount_spent</th>\n",
       "      <td>150.0</td>\n",
       "      <td>1544.820933</td>\n",
       "      <td>866.790063</td>\n",
       "      <td>15.37</td>\n",
       "      <td>807.395</td>\n",
       "      <td>1591.365</td>\n",
       "      <td>2413.275</td>\n",
       "      <td>2999.98</td>\n",
       "    </tr>\n",
       "  </tbody>\n",
       "</table>\n",
       "</div>"
      ],
      "text/plain": [
       "                count           mean         std        min         25%  \\\n",
       "Transaction_ID  150.0  151367.573333  125.167289  151200.00  151284.250   \n",
       "Age             150.0      45.920000   17.221619      15.00      33.000   \n",
       "Amount_spent    150.0    1544.820933  866.790063      15.37     807.395   \n",
       "\n",
       "                       50%         75%        max  \n",
       "Transaction_ID  151332.500  151476.750  151585.00  \n",
       "Age                 46.000      59.000      77.00  \n",
       "Amount_spent      1591.365    2413.275    2999.98  "
      ]
     },
     "execution_count": 8,
     "metadata": {},
     "output_type": "execute_result"
    }
   ],
   "source": [
    "df.describe().T"
   ]
  },
  {
   "cell_type": "code",
   "execution_count": 9,
   "id": "e834bb77",
   "metadata": {},
   "outputs": [
    {
     "data": {
      "text/html": [
       "<div>\n",
       "<style scoped>\n",
       "    .dataframe tbody tr th:only-of-type {\n",
       "        vertical-align: middle;\n",
       "    }\n",
       "\n",
       "    .dataframe tbody tr th {\n",
       "        vertical-align: top;\n",
       "    }\n",
       "\n",
       "    .dataframe thead th {\n",
       "        text-align: right;\n",
       "    }\n",
       "</style>\n",
       "<table border=\"1\" class=\"dataframe\">\n",
       "  <thead>\n",
       "    <tr style=\"text-align: right;\">\n",
       "      <th></th>\n",
       "      <th>count</th>\n",
       "      <th>unique</th>\n",
       "      <th>top</th>\n",
       "      <th>freq</th>\n",
       "    </tr>\n",
       "  </thead>\n",
       "  <tbody>\n",
       "    <tr>\n",
       "      <th>Gender</th>\n",
       "      <td>150</td>\n",
       "      <td>2</td>\n",
       "      <td>Female</td>\n",
       "      <td>86</td>\n",
       "    </tr>\n",
       "    <tr>\n",
       "      <th>Marital_status</th>\n",
       "      <td>150</td>\n",
       "      <td>2</td>\n",
       "      <td>Married</td>\n",
       "      <td>97</td>\n",
       "    </tr>\n",
       "    <tr>\n",
       "      <th>State_names</th>\n",
       "      <td>150</td>\n",
       "      <td>47</td>\n",
       "      <td>Colorado</td>\n",
       "      <td>7</td>\n",
       "    </tr>\n",
       "    <tr>\n",
       "      <th>Segment</th>\n",
       "      <td>150</td>\n",
       "      <td>4</td>\n",
       "      <td>Basic</td>\n",
       "      <td>76</td>\n",
       "    </tr>\n",
       "    <tr>\n",
       "      <th>Employees_status</th>\n",
       "      <td>150</td>\n",
       "      <td>4</td>\n",
       "      <td>Employees</td>\n",
       "      <td>52</td>\n",
       "    </tr>\n",
       "    <tr>\n",
       "      <th>Payment_method</th>\n",
       "      <td>150</td>\n",
       "      <td>3</td>\n",
       "      <td>PayPal</td>\n",
       "      <td>66</td>\n",
       "    </tr>\n",
       "  </tbody>\n",
       "</table>\n",
       "</div>"
      ],
      "text/plain": [
       "                 count unique        top freq\n",
       "Gender             150      2     Female   86\n",
       "Marital_status     150      2    Married   97\n",
       "State_names        150     47   Colorado    7\n",
       "Segment            150      4      Basic   76\n",
       "Employees_status   150      4  Employees   52\n",
       "Payment_method     150      3     PayPal   66"
      ]
     },
     "execution_count": 9,
     "metadata": {},
     "output_type": "execute_result"
    }
   ],
   "source": [
    "df.describe(include=object).T"
   ]
  },
  {
   "cell_type": "code",
   "execution_count": null,
   "id": "6bc9f4b1",
   "metadata": {},
   "outputs": [],
   "source": []
  }
 ],
 "metadata": {
  "kernelspec": {
   "display_name": "Python 3 (ipykernel)",
   "language": "python",
   "name": "python3"
  },
  "language_info": {
   "codemirror_mode": {
    "name": "ipython",
    "version": 3
   },
   "file_extension": ".py",
   "mimetype": "text/x-python",
   "name": "python",
   "nbconvert_exporter": "python",
   "pygments_lexer": "ipython3",
   "version": "3.9.13"
  }
 },
 "nbformat": 4,
 "nbformat_minor": 5
}
