{
 "cells": [
  {
   "cell_type": "markdown",
   "id": "60595643",
   "metadata": {},
   "source": [
    "# Statistics using numpy"
   ]
  },
  {
   "cell_type": "markdown",
   "id": "449fda61",
   "metadata": {},
   "source": [
    "\n",
    "# Measure of cental tendency"
   ]
  },
  {
   "cell_type": "code",
   "execution_count": 1,
   "id": "81265261",
   "metadata": {},
   "outputs": [
    {
     "name": "stdout",
     "output_type": "stream",
     "text": [
      "Mean of x is : 4.2\n",
      "Mean of y is : 11.0\n"
     ]
    }
   ],
   "source": [
    "#mean \n",
    "import numpy as np\n",
    "x=(1,2,3,1,2,3,4,5,2,6,7,5,4,8,10)\n",
    "y=[2,4,6,8,10,12,14,16,18,20]\n",
    "#using numpy\n",
    "np.mean(x)\n",
    "np.mean(y)\n",
    "print(\"Mean of x is :\",np.mean(x))\n",
    "print(\"Mean of y is :\",np.mean(y))"
   ]
  },
  {
   "cell_type": "code",
   "execution_count": 2,
   "id": "fe8703a0",
   "metadata": {},
   "outputs": [
    {
     "name": "stdout",
     "output_type": "stream",
     "text": [
      "Median of x is :  4.0\n",
      "Median of y is :  11.0\n"
     ]
    }
   ],
   "source": [
    "#median\n",
    "x=(1,2,3,1,2,3,4,5,2,6,7,5,4,8,10)\n",
    "y=[2,4,6,8,10,12,14,16,18,20]\n",
    "#using numpy\n",
    "np.median(x)\n",
    "np.median(y)\n",
    "print(\"Median of x is : \",np.median(x))\n",
    "print(\"Median of y is : \",np.median(y))"
   ]
  },
  {
   "cell_type": "code",
   "execution_count": 3,
   "id": "5d19bf29",
   "metadata": {},
   "outputs": [],
   "source": [
    "#mode\n",
    "#numpy does not has an attribute mode"
   ]
  },
  {
   "cell_type": "markdown",
   "id": "0d5b2249",
   "metadata": {},
   "source": [
    "# Measure of dispersion"
   ]
  },
  {
   "cell_type": "code",
   "execution_count": 4,
   "id": "38096034",
   "metadata": {},
   "outputs": [
    {
     "name": "stdout",
     "output_type": "stream",
     "text": [
      "Variance of x is :  6.5600000000000005\n",
      "Variance of y is :  33.0\n"
     ]
    }
   ],
   "source": [
    "#variance\n",
    "x=(1,2,3,1,2,3,4,5,2,6,7,5,4,8,10)\n",
    "y=[2,4,6,8,10,12,14,16,18,20]\n",
    "#using numpy\n",
    "np.var(x)\n",
    "np.var(y)\n",
    "print(\"Variance of x is : \",np.var(x))\n",
    "print(\"Variance of y is : \",np.var(y))"
   ]
  },
  {
   "cell_type": "code",
   "execution_count": 5,
   "id": "3eb6ae3e",
   "metadata": {},
   "outputs": [
    {
     "name": "stdout",
     "output_type": "stream",
     "text": [
      "Standard deviation of x is :  2.5612496949731396\n",
      "Standard deviation of y is :  5.744562646538029\n"
     ]
    }
   ],
   "source": [
    "#standard deviation\n",
    "x=(1,2,3,1,2,3,4,5,2,6,7,5,4,8,10)\n",
    "y=[2,4,6,8,10,12,14,16,18,20]\n",
    "#using numpy\n",
    "np.std(x)\n",
    "np.std(y)\n",
    "print(\"Standard deviation of x is : \",np.std(x))\n",
    "print(\"Standard deviation of y is : \",np.std(y))     "
   ]
  },
  {
   "cell_type": "markdown",
   "id": "cbaefbe7",
   "metadata": {},
   "source": [
    "# 5 number Summary\n",
    "1. Minimum\n",
    "\n",
    "2. 1st quartile -Q1\n",
    "\n",
    "3. 2nd quartile -Q2(Median)\n",
    "\n",
    "4. 3rd quartile -Q3\n",
    "\n",
    "5. Maximum"
   ]
  },
  {
   "cell_type": "code",
   "execution_count": 6,
   "id": "ea1d499d",
   "metadata": {},
   "outputs": [
    {
     "name": "stdout",
     "output_type": "stream",
     "text": [
      "Minimum of x is :  1\n",
      "Minimum of y is :  2\n"
     ]
    }
   ],
   "source": [
    "#Minimum\n",
    "x=(1,2,3,1,2,3,4,5,2,6,7,5,4,8,10)\n",
    "y=[2,4,6,8,10,12,14,16,18,20]\n",
    "#using numpy\n",
    "np.min(x)\n",
    "np.min(y)\n",
    "print(\"Minimum of x is : \",np.min(x))\n",
    "print(\"Minimum of y is : \",np.min(y))     "
   ]
  },
  {
   "cell_type": "code",
   "execution_count": 7,
   "id": "73e5a967",
   "metadata": {},
   "outputs": [
    {
     "name": "stdout",
     "output_type": "stream",
     "text": [
      "Q1 of x:  2.0 ,Q2 of x:  4.0 ,Q3 of x:  5.5\n",
      "Q1 of y:  6.5 ,Q2 of y:  11.0 ,Q3 of y:  15.5\n"
     ]
    }
   ],
   "source": [
    "#quartiles\n",
    "x=(1,2,3,1,2,3,4,5,2,6,7,5,4,8,10)\n",
    "y=[2,4,6,8,10,12,14,16,18,20]\n",
    "#using numpy\n",
    "np.quantile(x,(0.25,0.5,0.75))\n",
    "np.quantile(y,(0.25,0.5,0.75))\n",
    "print(\"Q1 of x: \" , np.quantile(x,0.25),\n",
    "      \",Q2 of x: \" , np.quantile(x,0.5),\n",
    "      \",Q3 of x: \" , np.quantile(x,0.75))\n",
    "print(\"Q1 of y: \" , np.quantile(y,0.25),\n",
    "      \",Q2 of y: \" , np.quantile(y,0.5),\n",
    "      \",Q3 of y: \" , np.quantile(y,0.75))"
   ]
  },
  {
   "cell_type": "code",
   "execution_count": 8,
   "id": "1a6010ac",
   "metadata": {},
   "outputs": [
    {
     "name": "stdout",
     "output_type": "stream",
     "text": [
      "Maximum of x is : 10\n",
      "Maximum of y is : 20\n"
     ]
    }
   ],
   "source": [
    "#Maximum\n",
    "x=(1,2,3,1,2,3,4,5,2,6,7,5,4,8,10)\n",
    "y=[2,4,6,8,10,12,14,16,18,20]\n",
    "#using numpy\n",
    "np.max(x)\n",
    "np.max(y)\n",
    "print(\"Maximum of x is :\",np.max(x))\n",
    "print(\"Maximum of y is :\",np.max(y))"
   ]
  },
  {
   "cell_type": "code",
   "execution_count": 9,
   "id": "de31b50d",
   "metadata": {},
   "outputs": [
    {
     "name": "stdout",
     "output_type": "stream",
     "text": [
      "Range of x is : 9\n",
      "Range of y is : 18\n"
     ]
    }
   ],
   "source": [
    "#Range = max-min\n",
    "#using numpy\n",
    "ranx=np.max(x)-np.min(x)\n",
    "ranx\n",
    "rany=np.max(y)-np.min(y)\n",
    "rany\n",
    "print(\"Range of x is :\",ranx)\n",
    "print(\"Range of y is :\",rany)"
   ]
  },
  {
   "cell_type": "code",
   "execution_count": 10,
   "id": "5d977be6",
   "metadata": {},
   "outputs": [
    {
     "name": "stdout",
     "output_type": "stream",
     "text": [
      "Interquartile range of x is : 3.5\n",
      "Interquartile range of y is : 9.0\n"
     ]
    }
   ],
   "source": [
    "#Interquartile range(IQR) = Q3-Q1\n",
    "#using numpy\n",
    "iqrx= np.quantile(x,0.75)-np.quantile(x,0.25)\n",
    "iqrx\n",
    "iqry= np.quantile(y,0.75)-np.quantile(y,0.25)\n",
    "iqry\n",
    "print(\"Interquartile range of x is :\",iqrx)\n",
    "print(\"Interquartile range of y is :\",iqry)"
   ]
  },
  {
   "cell_type": "code",
   "execution_count": 11,
   "id": "d31a28e6",
   "metadata": {},
   "outputs": [
    {
     "name": "stdout",
     "output_type": "stream",
     "text": [
      "Quartile deviation of x is : 1.75\n",
      "Quartile deviation of y is : 4.5\n"
     ]
    }
   ],
   "source": [
    "#Quartile deviation =IQR/2\n",
    "#using numpy\n",
    "qdx=iqrx/2\n",
    "qdx\n",
    "qdy=iqry/2\n",
    "qdy\n",
    "print(\"Quartile deviation of x is :\",qdx)\n",
    "print(\"Quartile deviation of y is :\",qdy)"
   ]
  }
 ],
 "metadata": {
  "kernelspec": {
   "display_name": "Python 3 (ipykernel)",
   "language": "python",
   "name": "python3"
  },
  "language_info": {
   "codemirror_mode": {
    "name": "ipython",
    "version": 3
   },
   "file_extension": ".py",
   "mimetype": "text/x-python",
   "name": "python",
   "nbconvert_exporter": "python",
   "pygments_lexer": "ipython3",
   "version": "3.9.13"
  }
 },
 "nbformat": 4,
 "nbformat_minor": 5
}
