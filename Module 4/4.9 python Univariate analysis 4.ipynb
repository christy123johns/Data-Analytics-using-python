{
 "cells": [
  {
   "cell_type": "markdown",
   "id": "ef30a211",
   "metadata": {},
   "source": [
    "# Univariate Analysis"
   ]
  },
  {
   "cell_type": "markdown",
   "id": "af281189",
   "metadata": {},
   "source": [
    "1. Skewness\n",
    "2. Kurtosis\n"
   ]
  },
  {
   "cell_type": "code",
   "execution_count": 15,
   "id": "cc9a5583",
   "metadata": {},
   "outputs": [],
   "source": [
    "import numpy as np\n",
    "import pandas as pd"
   ]
  },
  {
   "cell_type": "code",
   "execution_count": 16,
   "id": "e2145a6d",
   "metadata": {},
   "outputs": [
    {
     "data": {
      "text/html": [
       "<div>\n",
       "<style scoped>\n",
       "    .dataframe tbody tr th:only-of-type {\n",
       "        vertical-align: middle;\n",
       "    }\n",
       "\n",
       "    .dataframe tbody tr th {\n",
       "        vertical-align: top;\n",
       "    }\n",
       "\n",
       "    .dataframe thead th {\n",
       "        text-align: right;\n",
       "    }\n",
       "</style>\n",
       "<table border=\"1\" class=\"dataframe\">\n",
       "  <thead>\n",
       "    <tr style=\"text-align: right;\">\n",
       "      <th></th>\n",
       "      <th>Transaction_date</th>\n",
       "      <th>Transaction_ID</th>\n",
       "      <th>Gender</th>\n",
       "      <th>Age</th>\n",
       "      <th>Marital_status</th>\n",
       "      <th>State_names</th>\n",
       "      <th>Segment</th>\n",
       "      <th>Employees_status</th>\n",
       "      <th>Payment_method</th>\n",
       "      <th>Amount_spent</th>\n",
       "    </tr>\n",
       "  </thead>\n",
       "  <tbody>\n",
       "    <tr>\n",
       "      <th>0</th>\n",
       "      <td>2019-01-01</td>\n",
       "      <td>151200</td>\n",
       "      <td>Female</td>\n",
       "      <td>19</td>\n",
       "      <td>Single</td>\n",
       "      <td>Kansas</td>\n",
       "      <td>Basic</td>\n",
       "      <td>Unemployment</td>\n",
       "      <td>Other</td>\n",
       "      <td>2051.36</td>\n",
       "    </tr>\n",
       "    <tr>\n",
       "      <th>1</th>\n",
       "      <td>2019-01-01</td>\n",
       "      <td>151201</td>\n",
       "      <td>Male</td>\n",
       "      <td>19</td>\n",
       "      <td>Single</td>\n",
       "      <td>Illinois</td>\n",
       "      <td>Basic</td>\n",
       "      <td>self-employed</td>\n",
       "      <td>Card</td>\n",
       "      <td>544.04</td>\n",
       "    </tr>\n",
       "    <tr>\n",
       "      <th>2</th>\n",
       "      <td>2019-01-01</td>\n",
       "      <td>151202</td>\n",
       "      <td>Male</td>\n",
       "      <td>13</td>\n",
       "      <td>Married</td>\n",
       "      <td>New Mexico</td>\n",
       "      <td>Basic</td>\n",
       "      <td>workers</td>\n",
       "      <td>PayPal</td>\n",
       "      <td>1572.60</td>\n",
       "    </tr>\n",
       "    <tr>\n",
       "      <th>3</th>\n",
       "      <td>2019-01-01</td>\n",
       "      <td>151203</td>\n",
       "      <td>Female</td>\n",
       "      <td>18</td>\n",
       "      <td>Single</td>\n",
       "      <td>Virginia</td>\n",
       "      <td>Platinum</td>\n",
       "      <td>workers</td>\n",
       "      <td>Card</td>\n",
       "      <td>1199.79</td>\n",
       "    </tr>\n",
       "  </tbody>\n",
       "</table>\n",
       "</div>"
      ],
      "text/plain": [
       "  Transaction_date  Transaction_ID  Gender  Age Marital_status State_names  \\\n",
       "0       2019-01-01          151200  Female   19         Single      Kansas   \n",
       "1       2019-01-01          151201    Male   19         Single    Illinois   \n",
       "2       2019-01-01          151202    Male   13        Married  New Mexico   \n",
       "3       2019-01-01          151203  Female   18         Single    Virginia   \n",
       "\n",
       "    Segment Employees_status Payment_method  Amount_spent  \n",
       "0     Basic     Unemployment          Other       2051.36  \n",
       "1     Basic    self-employed           Card        544.04  \n",
       "2     Basic          workers         PayPal       1572.60  \n",
       "3  Platinum          workers           Card       1199.79  "
      ]
     },
     "execution_count": 16,
     "metadata": {},
     "output_type": "execute_result"
    }
   ],
   "source": [
    "# read file\n",
    "\n",
    "df = pd.read_excel('Online_Store_customer_data Skew.xlsx')\n",
    "df.head(4)"
   ]
  },
  {
   "cell_type": "code",
   "execution_count": 17,
   "id": "9d77ffef",
   "metadata": {},
   "outputs": [
    {
     "name": "stdout",
     "output_type": "stream",
     "text": [
      " Skewness of Age : 0.8403242499594479\n",
      " Kurtosis of Age : -0.4291885634707615\n"
     ]
    }
   ],
   "source": [
    "# Calculate skewness\n",
    "skew = df['Age'].skew()\n",
    "\n",
    "# Calculate kurtosis\n",
    "kurtosis= df['Age'].kurtosis()\n",
    "\n",
    "\n",
    "print(f\" Skewness of Age : {skew}\")\n",
    "print(f\" Kurtosis of Age : {kurtosis}\")\n",
    "\n",
    "#age is positively skewed and platykurtic curve\n"
   ]
  },
  {
   "cell_type": "markdown",
   "id": "8cd16e30",
   "metadata": {},
   "source": [
    "skewness interpretation\n",
    "\n",
    "1. if skewness between -0.5 & 0.5  - symmetrical data\n",
    "2. if skewness between   -1 & -0.5 - negative skew\n",
    "3. if skewness between  0.5 &  1   - positive skew\n",
    "4. if skewness lessthan      -1    - negative skew (left skew)\n",
    "5. if skewness greaterthan    1    - positive skew (right skew)\n",
    "\n",
    "\n",
    "kurtosis interpretation\n",
    "\n",
    "#dateset with high kurtosis tends to have heavy tails (outliers is there)\n",
    "\n",
    "#dateset with low kurtosis tends to have  light tails (lack of outliers)\n",
    "\n",
    "1. if value is greaterthan 1 - leptokurtik\n",
    "2. if value is lessthan -1   - platykurtik"
   ]
  },
  {
   "cell_type": "code",
   "execution_count": 18,
   "id": "2279f066",
   "metadata": {},
   "outputs": [
    {
     "data": {
      "text/html": [
       "<div>\n",
       "<style scoped>\n",
       "    .dataframe tbody tr th:only-of-type {\n",
       "        vertical-align: middle;\n",
       "    }\n",
       "\n",
       "    .dataframe tbody tr th {\n",
       "        vertical-align: top;\n",
       "    }\n",
       "\n",
       "    .dataframe thead th {\n",
       "        text-align: right;\n",
       "    }\n",
       "</style>\n",
       "<table border=\"1\" class=\"dataframe\">\n",
       "  <thead>\n",
       "    <tr style=\"text-align: right;\">\n",
       "      <th></th>\n",
       "      <th>Transaction_ID</th>\n",
       "      <th>Age</th>\n",
       "      <th>Amount_spent</th>\n",
       "    </tr>\n",
       "  </thead>\n",
       "  <tbody>\n",
       "    <tr>\n",
       "      <th>count</th>\n",
       "      <td>150.000000</td>\n",
       "      <td>150.000000</td>\n",
       "      <td>150.000000</td>\n",
       "    </tr>\n",
       "    <tr>\n",
       "      <th>mean</th>\n",
       "      <td>151367.573333</td>\n",
       "      <td>32.833333</td>\n",
       "      <td>1544.820933</td>\n",
       "    </tr>\n",
       "    <tr>\n",
       "      <th>std</th>\n",
       "      <td>125.167289</td>\n",
       "      <td>16.655779</td>\n",
       "      <td>866.790063</td>\n",
       "    </tr>\n",
       "    <tr>\n",
       "      <th>min</th>\n",
       "      <td>151200.000000</td>\n",
       "      <td>10.000000</td>\n",
       "      <td>15.370000</td>\n",
       "    </tr>\n",
       "    <tr>\n",
       "      <th>25%</th>\n",
       "      <td>151284.250000</td>\n",
       "      <td>20.000000</td>\n",
       "      <td>807.395000</td>\n",
       "    </tr>\n",
       "    <tr>\n",
       "      <th>50%</th>\n",
       "      <td>151332.500000</td>\n",
       "      <td>25.000000</td>\n",
       "      <td>1591.365000</td>\n",
       "    </tr>\n",
       "    <tr>\n",
       "      <th>75%</th>\n",
       "      <td>151476.750000</td>\n",
       "      <td>44.750000</td>\n",
       "      <td>2413.275000</td>\n",
       "    </tr>\n",
       "    <tr>\n",
       "      <th>max</th>\n",
       "      <td>151585.000000</td>\n",
       "      <td>75.000000</td>\n",
       "      <td>2999.980000</td>\n",
       "    </tr>\n",
       "  </tbody>\n",
       "</table>\n",
       "</div>"
      ],
      "text/plain": [
       "       Transaction_ID         Age  Amount_spent\n",
       "count      150.000000  150.000000    150.000000\n",
       "mean    151367.573333   32.833333   1544.820933\n",
       "std        125.167289   16.655779    866.790063\n",
       "min     151200.000000   10.000000     15.370000\n",
       "25%     151284.250000   20.000000    807.395000\n",
       "50%     151332.500000   25.000000   1591.365000\n",
       "75%     151476.750000   44.750000   2413.275000\n",
       "max     151585.000000   75.000000   2999.980000"
      ]
     },
     "execution_count": 18,
     "metadata": {},
     "output_type": "execute_result"
    }
   ],
   "source": [
    "df.describe()"
   ]
  },
  {
   "cell_type": "code",
   "execution_count": 19,
   "id": "fac33110",
   "metadata": {},
   "outputs": [
    {
     "data": {
      "text/html": [
       "<div>\n",
       "<style scoped>\n",
       "    .dataframe tbody tr th:only-of-type {\n",
       "        vertical-align: middle;\n",
       "    }\n",
       "\n",
       "    .dataframe tbody tr th {\n",
       "        vertical-align: top;\n",
       "    }\n",
       "\n",
       "    .dataframe thead th {\n",
       "        text-align: right;\n",
       "    }\n",
       "</style>\n",
       "<table border=\"1\" class=\"dataframe\">\n",
       "  <thead>\n",
       "    <tr style=\"text-align: right;\">\n",
       "      <th></th>\n",
       "      <th>count</th>\n",
       "      <th>mean</th>\n",
       "      <th>std</th>\n",
       "      <th>min</th>\n",
       "      <th>25%</th>\n",
       "      <th>50%</th>\n",
       "      <th>75%</th>\n",
       "      <th>max</th>\n",
       "    </tr>\n",
       "  </thead>\n",
       "  <tbody>\n",
       "    <tr>\n",
       "      <th>Transaction_ID</th>\n",
       "      <td>150.0</td>\n",
       "      <td>151367.573333</td>\n",
       "      <td>125.167289</td>\n",
       "      <td>151200.00</td>\n",
       "      <td>151284.250</td>\n",
       "      <td>151332.500</td>\n",
       "      <td>151476.750</td>\n",
       "      <td>151585.00</td>\n",
       "    </tr>\n",
       "    <tr>\n",
       "      <th>Age</th>\n",
       "      <td>150.0</td>\n",
       "      <td>32.833333</td>\n",
       "      <td>16.655779</td>\n",
       "      <td>10.00</td>\n",
       "      <td>20.000</td>\n",
       "      <td>25.000</td>\n",
       "      <td>44.750</td>\n",
       "      <td>75.00</td>\n",
       "    </tr>\n",
       "    <tr>\n",
       "      <th>Amount_spent</th>\n",
       "      <td>150.0</td>\n",
       "      <td>1544.820933</td>\n",
       "      <td>866.790063</td>\n",
       "      <td>15.37</td>\n",
       "      <td>807.395</td>\n",
       "      <td>1591.365</td>\n",
       "      <td>2413.275</td>\n",
       "      <td>2999.98</td>\n",
       "    </tr>\n",
       "  </tbody>\n",
       "</table>\n",
       "</div>"
      ],
      "text/plain": [
       "                count           mean         std        min         25%  \\\n",
       "Transaction_ID  150.0  151367.573333  125.167289  151200.00  151284.250   \n",
       "Age             150.0      32.833333   16.655779      10.00      20.000   \n",
       "Amount_spent    150.0    1544.820933  866.790063      15.37     807.395   \n",
       "\n",
       "                       50%         75%        max  \n",
       "Transaction_ID  151332.500  151476.750  151585.00  \n",
       "Age                 25.000      44.750      75.00  \n",
       "Amount_spent      1591.365    2413.275    2999.98  "
      ]
     },
     "execution_count": 19,
     "metadata": {},
     "output_type": "execute_result"
    }
   ],
   "source": [
    "df.describe().T"
   ]
  },
  {
   "cell_type": "code",
   "execution_count": 20,
   "id": "05d9dcbf",
   "metadata": {},
   "outputs": [
    {
     "data": {
      "text/html": [
       "<div>\n",
       "<style scoped>\n",
       "    .dataframe tbody tr th:only-of-type {\n",
       "        vertical-align: middle;\n",
       "    }\n",
       "\n",
       "    .dataframe tbody tr th {\n",
       "        vertical-align: top;\n",
       "    }\n",
       "\n",
       "    .dataframe thead th {\n",
       "        text-align: right;\n",
       "    }\n",
       "</style>\n",
       "<table border=\"1\" class=\"dataframe\">\n",
       "  <thead>\n",
       "    <tr style=\"text-align: right;\">\n",
       "      <th></th>\n",
       "      <th>count</th>\n",
       "      <th>unique</th>\n",
       "      <th>top</th>\n",
       "      <th>freq</th>\n",
       "    </tr>\n",
       "  </thead>\n",
       "  <tbody>\n",
       "    <tr>\n",
       "      <th>Gender</th>\n",
       "      <td>150</td>\n",
       "      <td>2</td>\n",
       "      <td>Female</td>\n",
       "      <td>86</td>\n",
       "    </tr>\n",
       "    <tr>\n",
       "      <th>Marital_status</th>\n",
       "      <td>150</td>\n",
       "      <td>2</td>\n",
       "      <td>Married</td>\n",
       "      <td>97</td>\n",
       "    </tr>\n",
       "    <tr>\n",
       "      <th>State_names</th>\n",
       "      <td>150</td>\n",
       "      <td>47</td>\n",
       "      <td>Colorado</td>\n",
       "      <td>7</td>\n",
       "    </tr>\n",
       "    <tr>\n",
       "      <th>Segment</th>\n",
       "      <td>150</td>\n",
       "      <td>4</td>\n",
       "      <td>Basic</td>\n",
       "      <td>76</td>\n",
       "    </tr>\n",
       "    <tr>\n",
       "      <th>Employees_status</th>\n",
       "      <td>150</td>\n",
       "      <td>4</td>\n",
       "      <td>Employees</td>\n",
       "      <td>52</td>\n",
       "    </tr>\n",
       "    <tr>\n",
       "      <th>Payment_method</th>\n",
       "      <td>150</td>\n",
       "      <td>3</td>\n",
       "      <td>PayPal</td>\n",
       "      <td>66</td>\n",
       "    </tr>\n",
       "  </tbody>\n",
       "</table>\n",
       "</div>"
      ],
      "text/plain": [
       "                 count unique        top freq\n",
       "Gender             150      2     Female   86\n",
       "Marital_status     150      2    Married   97\n",
       "State_names        150     47   Colorado    7\n",
       "Segment            150      4      Basic   76\n",
       "Employees_status   150      4  Employees   52\n",
       "Payment_method     150      3     PayPal   66"
      ]
     },
     "execution_count": 20,
     "metadata": {},
     "output_type": "execute_result"
    }
   ],
   "source": [
    "df.describe(include=object).T"
   ]
  },
  {
   "cell_type": "code",
   "execution_count": 21,
   "id": "eb351aa3",
   "metadata": {},
   "outputs": [
    {
     "data": {
      "text/plain": [
       "<AxesSubplot:ylabel='Frequency'>"
      ]
     },
     "execution_count": 21,
     "metadata": {},
     "output_type": "execute_result"
    },
    {
     "data": {
      "image/png": "[encoded data removed]",
      "text/plain": [
       "<Figure size 640x480 with 1 Axes>"
      ]
     },
     "metadata": {},
     "output_type": "display_data"
    }
   ],
   "source": [
    "df.plot(\n",
    "    y='Age',\n",
    "    kind='hist',\n",
    "    bins=10)"
   ]
  }
 ],
 "metadata": {
  "kernelspec": {
   "display_name": "Python 3 (ipykernel)",
   "language": "python",
   "name": "python3"
  },
  "language_info": {
   "codemirror_mode": {
    "name": "ipython",
    "version": 3
   },
   "file_extension": ".py",
   "mimetype": "text/x-python",
   "name": "python",
   "nbconvert_exporter": "python",
   "pygments_lexer": "ipython3",
   "version": "3.9.13"
  }
 },
 "nbformat": 4,
 "nbformat_minor": 5
}
