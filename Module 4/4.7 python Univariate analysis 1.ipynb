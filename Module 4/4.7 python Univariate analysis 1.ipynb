{
 "cells": [
  {
   "cell_type": "markdown",
   "id": "04b7cffe",
   "metadata": {},
   "source": [
    "# Univariate Analysis"
   ]
  },
  {
   "cell_type": "markdown",
   "id": "ea81d2f0",
   "metadata": {},
   "source": [
    "## Measure of central tendency"
   ]
  },
  {
   "cell_type": "markdown",
   "id": "e708c1f8",
   "metadata": {},
   "source": [
    "1. Mean\n",
    "2. Meadian\n",
    "3. Mode"
   ]
  },
  {
   "cell_type": "code",
   "execution_count": 15,
   "id": "1235284c",
   "metadata": {},
   "outputs": [],
   "source": [
    "# Mean = Average\n",
    "# Median = Middle value\n",
    "# Mode = Most repeated value"
   ]
  },
  {
   "cell_type": "code",
   "execution_count": 16,
   "id": "f6dc27c0",
   "metadata": {},
   "outputs": [],
   "source": [
    "import numpy as np\n",
    "import pandas as pd"
   ]
  },
  {
   "cell_type": "code",
   "execution_count": 17,
   "id": "15b00407",
   "metadata": {},
   "outputs": [
    {
     "data": {
      "text/html": [
       "<div>\n",
       "<style scoped>\n",
       "    .dataframe tbody tr th:only-of-type {\n",
       "        vertical-align: middle;\n",
       "    }\n",
       "\n",
       "    .dataframe tbody tr th {\n",
       "        vertical-align: top;\n",
       "    }\n",
       "\n",
       "    .dataframe thead th {\n",
       "        text-align: right;\n",
       "    }\n",
       "</style>\n",
       "<table border=\"1\" class=\"dataframe\">\n",
       "  <thead>\n",
       "    <tr style=\"text-align: right;\">\n",
       "      <th></th>\n",
       "      <th>Transaction_date</th>\n",
       "      <th>Transaction_ID</th>\n",
       "      <th>Gender</th>\n",
       "      <th>Age</th>\n",
       "      <th>Marital_status</th>\n",
       "      <th>State_names</th>\n",
       "      <th>Segment</th>\n",
       "      <th>Employees_status</th>\n",
       "      <th>Payment_method</th>\n",
       "      <th>Amount_spent</th>\n",
       "    </tr>\n",
       "  </thead>\n",
       "  <tbody>\n",
       "    <tr>\n",
       "      <th>0</th>\n",
       "      <td>2019-01-01</td>\n",
       "      <td>151200</td>\n",
       "      <td>Female</td>\n",
       "      <td>19</td>\n",
       "      <td>Single</td>\n",
       "      <td>Kansas</td>\n",
       "      <td>Basic</td>\n",
       "      <td>Unemployment</td>\n",
       "      <td>Other</td>\n",
       "      <td>2051.36</td>\n",
       "    </tr>\n",
       "    <tr>\n",
       "      <th>1</th>\n",
       "      <td>2019-01-01</td>\n",
       "      <td>151201</td>\n",
       "      <td>Male</td>\n",
       "      <td>49</td>\n",
       "      <td>Single</td>\n",
       "      <td>Illinois</td>\n",
       "      <td>Basic</td>\n",
       "      <td>self-employed</td>\n",
       "      <td>Card</td>\n",
       "      <td>544.04</td>\n",
       "    </tr>\n",
       "    <tr>\n",
       "      <th>2</th>\n",
       "      <td>2019-01-01</td>\n",
       "      <td>151202</td>\n",
       "      <td>Male</td>\n",
       "      <td>63</td>\n",
       "      <td>Married</td>\n",
       "      <td>New Mexico</td>\n",
       "      <td>Basic</td>\n",
       "      <td>workers</td>\n",
       "      <td>PayPal</td>\n",
       "      <td>1572.60</td>\n",
       "    </tr>\n",
       "    <tr>\n",
       "      <th>3</th>\n",
       "      <td>2019-01-01</td>\n",
       "      <td>151203</td>\n",
       "      <td>Female</td>\n",
       "      <td>18</td>\n",
       "      <td>Single</td>\n",
       "      <td>Virginia</td>\n",
       "      <td>Platinum</td>\n",
       "      <td>workers</td>\n",
       "      <td>Card</td>\n",
       "      <td>1199.79</td>\n",
       "    </tr>\n",
       "  </tbody>\n",
       "</table>\n",
       "</div>"
      ],
      "text/plain": [
       "  Transaction_date  Transaction_ID  Gender  Age Marital_status State_names  \\\n",
       "0       2019-01-01          151200  Female   19         Single      Kansas   \n",
       "1       2019-01-01          151201    Male   49         Single    Illinois   \n",
       "2       2019-01-01          151202    Male   63        Married  New Mexico   \n",
       "3       2019-01-01          151203  Female   18         Single    Virginia   \n",
       "\n",
       "    Segment Employees_status Payment_method  Amount_spent  \n",
       "0     Basic     Unemployment          Other       2051.36  \n",
       "1     Basic    self-employed           Card        544.04  \n",
       "2     Basic          workers         PayPal       1572.60  \n",
       "3  Platinum          workers           Card       1199.79  "
      ]
     },
     "execution_count": 17,
     "metadata": {},
     "output_type": "execute_result"
    }
   ],
   "source": [
    "# read file\n",
    "\n",
    "df = pd.read_excel('Online_Store_customer_data.xlsx')\n",
    "df.head(4)"
   ]
  },
  {
   "cell_type": "code",
   "execution_count": 18,
   "id": "fb029972",
   "metadata": {},
   "outputs": [
    {
     "data": {
      "text/plain": [
       "4"
      ]
     },
     "execution_count": 18,
     "metadata": {},
     "output_type": "execute_result"
    }
   ],
   "source": [
    "# for display how many unique values are there \n",
    "df['Segment'].nunique()"
   ]
  },
  {
   "cell_type": "code",
   "execution_count": 19,
   "id": "cd6728e3",
   "metadata": {},
   "outputs": [
    {
     "data": {
      "text/plain": [
       "array(['Basic', 'Platinum', 'Silver', 'Gold'], dtype=object)"
      ]
     },
     "execution_count": 19,
     "metadata": {},
     "output_type": "execute_result"
    }
   ],
   "source": [
    "# for display uniqe values \n",
    "df['Segment'].unique()"
   ]
  },
  {
   "cell_type": "code",
   "execution_count": 20,
   "id": "4bdbafbd",
   "metadata": {},
   "outputs": [
    {
     "name": "stdout",
     "output_type": "stream",
     "text": [
      " Mean of Age : 45.92\n",
      " Median of Age : 46.0\n",
      " Mode of Age : 43\n"
     ]
    }
   ],
   "source": [
    "# Calculate Mean\n",
    "mean = df['Age'].mean()\n",
    "\n",
    "# Calculate Median\n",
    "median = df['Age'].median()\n",
    "\n",
    "#Calculate Mode\n",
    "mode = df['Age'].mode().iloc[0]\n",
    "\n",
    "print(\" Mean of Age :\", mean)\n",
    "print(f\" Median of Age : {median}\")\n",
    "print(f\" Mode of Age : {mode}\")"
   ]
  },
  {
   "cell_type": "code",
   "execution_count": 26,
   "id": "9dde4d03",
   "metadata": {},
   "outputs": [
    {
     "data": {
      "text/plain": [
       "0    43\n",
       "1    45\n",
       "Name: Age, dtype: int64"
      ]
     },
     "execution_count": 26,
     "metadata": {},
     "output_type": "execute_result"
    }
   ],
   "source": [
    "mode = df['Age'].mode()\n",
    "mode"
   ]
  },
  {
   "cell_type": "code",
   "execution_count": 28,
   "id": "2d724807",
   "metadata": {},
   "outputs": [
    {
     "data": {
      "text/plain": [
       "45"
      ]
     },
     "execution_count": 28,
     "metadata": {},
     "output_type": "execute_result"
    }
   ],
   "source": [
    "mode = df['Age'].mode().iloc[1]\n",
    "mode"
   ]
  },
  {
   "cell_type": "code",
   "execution_count": 22,
   "id": "0328842e",
   "metadata": {},
   "outputs": [
    {
     "name": "stdout",
     "output_type": "stream",
     "text": [
      " Mean of Amount_spent : 1544.820933333333\n",
      " Median of Amount_spent : 1591.365\n",
      " Mode of Amount_spent : 685.49\n"
     ]
    }
   ],
   "source": [
    "# Calculate Mean\n",
    "mean = df['Amount_spent'].mean()\n",
    "\n",
    "# Calculate Median\n",
    "median = df['Amount_spent'].median()\n",
    "\n",
    "#Calculate Mode\n",
    "mode = df['Amount_spent'].mode().iloc[0]\n",
    "\n",
    "print(f\" Mean of Amount_spent : {mean}\")\n",
    "print(f\" Median of Amount_spent : {median}\")\n",
    "print(f\" Mode of Amount_spent : {mode}\")"
   ]
  },
  {
   "cell_type": "code",
   "execution_count": 23,
   "id": "f53701ca",
   "metadata": {},
   "outputs": [
    {
     "data": {
      "text/html": [
       "<div>\n",
       "<style scoped>\n",
       "    .dataframe tbody tr th:only-of-type {\n",
       "        vertical-align: middle;\n",
       "    }\n",
       "\n",
       "    .dataframe tbody tr th {\n",
       "        vertical-align: top;\n",
       "    }\n",
       "\n",
       "    .dataframe thead th {\n",
       "        text-align: right;\n",
       "    }\n",
       "</style>\n",
       "<table border=\"1\" class=\"dataframe\">\n",
       "  <thead>\n",
       "    <tr style=\"text-align: right;\">\n",
       "      <th></th>\n",
       "      <th>Transaction_ID</th>\n",
       "      <th>Age</th>\n",
       "      <th>Amount_spent</th>\n",
       "    </tr>\n",
       "  </thead>\n",
       "  <tbody>\n",
       "    <tr>\n",
       "      <th>count</th>\n",
       "      <td>150.000000</td>\n",
       "      <td>150.000000</td>\n",
       "      <td>150.000000</td>\n",
       "    </tr>\n",
       "    <tr>\n",
       "      <th>mean</th>\n",
       "      <td>151367.573333</td>\n",
       "      <td>45.920000</td>\n",
       "      <td>1544.820933</td>\n",
       "    </tr>\n",
       "    <tr>\n",
       "      <th>std</th>\n",
       "      <td>125.167289</td>\n",
       "      <td>17.221619</td>\n",
       "      <td>866.790063</td>\n",
       "    </tr>\n",
       "    <tr>\n",
       "      <th>min</th>\n",
       "      <td>151200.000000</td>\n",
       "      <td>15.000000</td>\n",
       "      <td>15.370000</td>\n",
       "    </tr>\n",
       "    <tr>\n",
       "      <th>25%</th>\n",
       "      <td>151284.250000</td>\n",
       "      <td>33.000000</td>\n",
       "      <td>807.395000</td>\n",
       "    </tr>\n",
       "    <tr>\n",
       "      <th>50%</th>\n",
       "      <td>151332.500000</td>\n",
       "      <td>46.000000</td>\n",
       "      <td>1591.365000</td>\n",
       "    </tr>\n",
       "    <tr>\n",
       "      <th>75%</th>\n",
       "      <td>151476.750000</td>\n",
       "      <td>59.000000</td>\n",
       "      <td>2413.275000</td>\n",
       "    </tr>\n",
       "    <tr>\n",
       "      <th>max</th>\n",
       "      <td>151585.000000</td>\n",
       "      <td>77.000000</td>\n",
       "      <td>2999.980000</td>\n",
       "    </tr>\n",
       "  </tbody>\n",
       "</table>\n",
       "</div>"
      ],
      "text/plain": [
       "       Transaction_ID         Age  Amount_spent\n",
       "count      150.000000  150.000000    150.000000\n",
       "mean    151367.573333   45.920000   1544.820933\n",
       "std        125.167289   17.221619    866.790063\n",
       "min     151200.000000   15.000000     15.370000\n",
       "25%     151284.250000   33.000000    807.395000\n",
       "50%     151332.500000   46.000000   1591.365000\n",
       "75%     151476.750000   59.000000   2413.275000\n",
       "max     151585.000000   77.000000   2999.980000"
      ]
     },
     "execution_count": 23,
     "metadata": {},
     "output_type": "execute_result"
    }
   ],
   "source": [
    "df.describe()"
   ]
  },
  {
   "cell_type": "code",
   "execution_count": 24,
   "id": "2ef1fb5e",
   "metadata": {},
   "outputs": [
    {
     "data": {
      "text/html": [
       "<div>\n",
       "<style scoped>\n",
       "    .dataframe tbody tr th:only-of-type {\n",
       "        vertical-align: middle;\n",
       "    }\n",
       "\n",
       "    .dataframe tbody tr th {\n",
       "        vertical-align: top;\n",
       "    }\n",
       "\n",
       "    .dataframe thead th {\n",
       "        text-align: right;\n",
       "    }\n",
       "</style>\n",
       "<table border=\"1\" class=\"dataframe\">\n",
       "  <thead>\n",
       "    <tr style=\"text-align: right;\">\n",
       "      <th></th>\n",
       "      <th>count</th>\n",
       "      <th>mean</th>\n",
       "      <th>std</th>\n",
       "      <th>min</th>\n",
       "      <th>25%</th>\n",
       "      <th>50%</th>\n",
       "      <th>75%</th>\n",
       "      <th>max</th>\n",
       "    </tr>\n",
       "  </thead>\n",
       "  <tbody>\n",
       "    <tr>\n",
       "      <th>Transaction_ID</th>\n",
       "      <td>150.0</td>\n",
       "      <td>151367.573333</td>\n",
       "      <td>125.167289</td>\n",
       "      <td>151200.00</td>\n",
       "      <td>151284.250</td>\n",
       "      <td>151332.500</td>\n",
       "      <td>151476.750</td>\n",
       "      <td>151585.00</td>\n",
       "    </tr>\n",
       "    <tr>\n",
       "      <th>Age</th>\n",
       "      <td>150.0</td>\n",
       "      <td>45.920000</td>\n",
       "      <td>17.221619</td>\n",
       "      <td>15.00</td>\n",
       "      <td>33.000</td>\n",
       "      <td>46.000</td>\n",
       "      <td>59.000</td>\n",
       "      <td>77.00</td>\n",
       "    </tr>\n",
       "    <tr>\n",
       "      <th>Amount_spent</th>\n",
       "      <td>150.0</td>\n",
       "      <td>1544.820933</td>\n",
       "      <td>866.790063</td>\n",
       "      <td>15.37</td>\n",
       "      <td>807.395</td>\n",
       "      <td>1591.365</td>\n",
       "      <td>2413.275</td>\n",
       "      <td>2999.98</td>\n",
       "    </tr>\n",
       "  </tbody>\n",
       "</table>\n",
       "</div>"
      ],
      "text/plain": [
       "                count           mean         std        min         25%  \\\n",
       "Transaction_ID  150.0  151367.573333  125.167289  151200.00  151284.250   \n",
       "Age             150.0      45.920000   17.221619      15.00      33.000   \n",
       "Amount_spent    150.0    1544.820933  866.790063      15.37     807.395   \n",
       "\n",
       "                       50%         75%        max  \n",
       "Transaction_ID  151332.500  151476.750  151585.00  \n",
       "Age                 46.000      59.000      77.00  \n",
       "Amount_spent      1591.365    2413.275    2999.98  "
      ]
     },
     "execution_count": 24,
     "metadata": {},
     "output_type": "execute_result"
    }
   ],
   "source": [
    "df.describe().T"
   ]
  },
  {
   "cell_type": "code",
   "execution_count": 25,
   "id": "33e26a30",
   "metadata": {},
   "outputs": [
    {
     "data": {
      "text/html": [
       "<div>\n",
       "<style scoped>\n",
       "    .dataframe tbody tr th:only-of-type {\n",
       "        vertical-align: middle;\n",
       "    }\n",
       "\n",
       "    .dataframe tbody tr th {\n",
       "        vertical-align: top;\n",
       "    }\n",
       "\n",
       "    .dataframe thead th {\n",
       "        text-align: right;\n",
       "    }\n",
       "</style>\n",
       "<table border=\"1\" class=\"dataframe\">\n",
       "  <thead>\n",
       "    <tr style=\"text-align: right;\">\n",
       "      <th></th>\n",
       "      <th>count</th>\n",
       "      <th>unique</th>\n",
       "      <th>top</th>\n",
       "      <th>freq</th>\n",
       "    </tr>\n",
       "  </thead>\n",
       "  <tbody>\n",
       "    <tr>\n",
       "      <th>Gender</th>\n",
       "      <td>150</td>\n",
       "      <td>2</td>\n",
       "      <td>Female</td>\n",
       "      <td>86</td>\n",
       "    </tr>\n",
       "    <tr>\n",
       "      <th>Marital_status</th>\n",
       "      <td>150</td>\n",
       "      <td>2</td>\n",
       "      <td>Married</td>\n",
       "      <td>97</td>\n",
       "    </tr>\n",
       "    <tr>\n",
       "      <th>State_names</th>\n",
       "      <td>150</td>\n",
       "      <td>47</td>\n",
       "      <td>Colorado</td>\n",
       "      <td>7</td>\n",
       "    </tr>\n",
       "    <tr>\n",
       "      <th>Segment</th>\n",
       "      <td>150</td>\n",
       "      <td>4</td>\n",
       "      <td>Basic</td>\n",
       "      <td>76</td>\n",
       "    </tr>\n",
       "    <tr>\n",
       "      <th>Employees_status</th>\n",
       "      <td>150</td>\n",
       "      <td>4</td>\n",
       "      <td>Employees</td>\n",
       "      <td>52</td>\n",
       "    </tr>\n",
       "    <tr>\n",
       "      <th>Payment_method</th>\n",
       "      <td>150</td>\n",
       "      <td>3</td>\n",
       "      <td>PayPal</td>\n",
       "      <td>66</td>\n",
       "    </tr>\n",
       "  </tbody>\n",
       "</table>\n",
       "</div>"
      ],
      "text/plain": [
       "                 count unique        top freq\n",
       "Gender             150      2     Female   86\n",
       "Marital_status     150      2    Married   97\n",
       "State_names        150     47   Colorado    7\n",
       "Segment            150      4      Basic   76\n",
       "Employees_status   150      4  Employees   52\n",
       "Payment_method     150      3     PayPal   66"
      ]
     },
     "execution_count": 25,
     "metadata": {},
     "output_type": "execute_result"
    }
   ],
   "source": [
    "df.describe(include=object).T"
   ]
  },
  {
   "cell_type": "code",
   "execution_count": null,
   "id": "b32262c5",
   "metadata": {},
   "outputs": [],
   "source": []
  }
 ],
 "metadata": {
  "kernelspec": {
   "display_name": "Python 3 (ipykernel)",
   "language": "python",
   "name": "python3"
  },
  "language_info": {
   "codemirror_mode": {
    "name": "ipython",
    "version": 3
   },
   "file_extension": ".py",
   "mimetype": "text/x-python",
   "name": "python",
   "nbconvert_exporter": "python",
   "pygments_lexer": "ipython3",
   "version": "3.9.13"
  }
 },
 "nbformat": 4,
 "nbformat_minor": 5
}
