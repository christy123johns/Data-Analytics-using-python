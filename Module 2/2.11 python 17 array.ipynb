{
 "cells": [
  {
   "cell_type": "markdown",
   "id": "8348b628",
   "metadata": {},
   "source": [
    "# Python Arrays\n",
    "Arrays are used to store multiple values in one single variable"
   ]
  },
  {
   "cell_type": "code",
   "execution_count": 1,
   "id": "55e0870e",
   "metadata": {},
   "outputs": [],
   "source": [
    "flowers=[\"rose\",\"lily\",\"lotus\"]"
   ]
  },
  {
   "cell_type": "code",
   "execution_count": 2,
   "id": "c8ba3748",
   "metadata": {},
   "outputs": [
    {
     "name": "stdout",
     "output_type": "stream",
     "text": [
      "rose\n",
      "lily\n",
      "lotus\n"
     ]
    }
   ],
   "source": [
    "x=flowers[0] #0 is the index number(refering the elements in the array and its start from 0 not from 1).\n",
    "y=flowers[1]\n",
    "z=flowers[2]\n",
    "print(x)\n",
    "print(y)\n",
    "print(z)"
   ]
  },
  {
   "cell_type": "code",
   "execution_count": 3,
   "id": "9c74b439",
   "metadata": {},
   "outputs": [
    {
     "name": "stdout",
     "output_type": "stream",
     "text": [
      "['tulip', 'lily', 'lotus']\n"
     ]
    }
   ],
   "source": [
    "flowers=[\"rose\",\"lily\",\"lotus\"]\n",
    "flowers[0]=\"tulip\"#we can change the value of array.\n",
    "print(flowers)"
   ]
  },
  {
   "cell_type": "code",
   "execution_count": 4,
   "id": "9d3fcbf1",
   "metadata": {},
   "outputs": [
    {
     "name": "stdout",
     "output_type": "stream",
     "text": [
      "['rose', 'daisy', 'lotus']\n"
     ]
    }
   ],
   "source": [
    "flowers=[\"rose\",\"lily\",\"lotus\"]\n",
    "flowers[1]=\"daisy\"\n",
    "print(flowers)"
   ]
  },
  {
   "cell_type": "code",
   "execution_count": 5,
   "id": "b2361e68",
   "metadata": {},
   "outputs": [
    {
     "name": "stdout",
     "output_type": "stream",
     "text": [
      "['tulip', 'daisy', 'lotus']\n"
     ]
    }
   ],
   "source": [
    "flowers=[\"rose\",\"lily\",\"lotus\"]\n",
    "flowers[0]=\"tulip\"\n",
    "flowers[1]=\"daisy\"\n",
    "print(flowers)"
   ]
  },
  {
   "cell_type": "code",
   "execution_count": 6,
   "id": "24791369",
   "metadata": {},
   "outputs": [
    {
     "name": "stdout",
     "output_type": "stream",
     "text": [
      "3\n"
     ]
    }
   ],
   "source": [
    "x=len(flowers) #len is used to find the length of the array.\n",
    "print(x)"
   ]
  },
  {
   "cell_type": "code",
   "execution_count": 7,
   "id": "a6c2d083",
   "metadata": {},
   "outputs": [
    {
     "name": "stdout",
     "output_type": "stream",
     "text": [
      "tulip\n",
      "daisy\n",
      "lotus\n"
     ]
    }
   ],
   "source": [
    "for x in flowers: #used to print the elements in the array using for loop.\n",
    " print(x)"
   ]
  },
  {
   "cell_type": "code",
   "execution_count": 8,
   "id": "0a4efc21",
   "metadata": {},
   "outputs": [
    {
     "name": "stdout",
     "output_type": "stream",
     "text": [
      "['tulip', 'daisy', 'lotus', 'sunflower']\n"
     ]
    }
   ],
   "source": [
    "flowers.append(\"sunflower\") #append is used to add a new element to the array.\n",
    "print(flowers)"
   ]
  },
  {
   "cell_type": "code",
   "execution_count": 9,
   "id": "b54c25ea",
   "metadata": {},
   "outputs": [
    {
     "name": "stdout",
     "output_type": "stream",
     "text": [
      "['daisy', 'lotus', 'sunflower']\n"
     ]
    }
   ],
   "source": [
    "flowers.pop(0) #pop is used to delete the elements in the array.Here the first element is deleted\n",
    "print(flowers)"
   ]
  },
  {
   "cell_type": "code",
   "execution_count": 10,
   "id": "cae92120",
   "metadata": {},
   "outputs": [
    {
     "name": "stdout",
     "output_type": "stream",
     "text": [
      "['lotus', 'sunflower']\n"
     ]
    }
   ],
   "source": [
    "flowers.remove(\"daisy\") #same as pop, deleting the elements.\n",
    "print(flowers)"
   ]
  },
  {
   "cell_type": "code",
   "execution_count": null,
   "id": "121dbe2b",
   "metadata": {},
   "outputs": [],
   "source": []
  }
 ],
 "metadata": {
  "kernelspec": {
   "display_name": "Python 3 (ipykernel)",
   "language": "python",
   "name": "python3"
  },
  "language_info": {
   "codemirror_mode": {
    "name": "ipython",
    "version": 3
   },
   "file_extension": ".py",
   "mimetype": "text/x-python",
   "name": "python",
   "nbconvert_exporter": "python",
   "pygments_lexer": "ipython3",
   "version": "3.9.13"
  }
 },
 "nbformat": 4,
 "nbformat_minor": 5
}
