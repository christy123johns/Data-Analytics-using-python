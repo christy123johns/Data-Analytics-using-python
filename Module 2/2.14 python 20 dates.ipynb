{
 "cells": [
  {
   "cell_type": "markdown",
   "id": "1c1a0574",
   "metadata": {},
   "source": [
    "# Python Dates\n",
    "A date in Python is not a data type of its own, but we can import a module named datetime to work with dates as date objects."
   ]
  },
  {
   "cell_type": "code",
   "execution_count": 1,
   "id": "a65c31f0",
   "metadata": {},
   "outputs": [
    {
     "name": "stdout",
     "output_type": "stream",
     "text": [
      "2023-07-21 20:22:40.316177\n",
      "2023\n",
      "Friday\n"
     ]
    }
   ],
   "source": [
    "import datetime\n",
    "x = datetime.datetime.now()\n",
    "print(x)\n",
    "print(x.year)\n",
    "print(x.strftime(\"%A\")) \n",
    "\n",
    "#%A used for get weekday.\n",
    "#The datetime object has a method for formatting date objects into readable strings.The method is called strftime()"
   ]
  },
  {
   "cell_type": "code",
   "execution_count": 2,
   "id": "8bd045d9",
   "metadata": {},
   "outputs": [
    {
     "name": "stdout",
     "output_type": "stream",
     "text": [
      "2000-01-01 00:00:00\n"
     ]
    }
   ],
   "source": [
    "x = datetime.datetime(2000,1,1)\n",
    "print(x)"
   ]
  },
  {
   "cell_type": "code",
   "execution_count": 3,
   "id": "728f047f",
   "metadata": {},
   "outputs": [
    {
     "name": "stdout",
     "output_type": "stream",
     "text": [
      "July\n",
      "05\n"
     ]
    }
   ],
   "source": [
    "x = datetime.datetime(2023,7,5)\n",
    "\n",
    "print(x.strftime(\"%B\")) #%B used to get the month.\n",
    "print(x.strftime(\"%d\")) #%d used to get the day."
   ]
  },
  {
   "cell_type": "code",
   "execution_count": null,
   "id": "de09c0a8",
   "metadata": {},
   "outputs": [],
   "source": []
  }
 ],
 "metadata": {
  "kernelspec": {
   "display_name": "Python 3 (ipykernel)",
   "language": "python",
   "name": "python3"
  },
  "language_info": {
   "codemirror_mode": {
    "name": "ipython",
    "version": 3
   },
   "file_extension": ".py",
   "mimetype": "text/x-python",
   "name": "python",
   "nbconvert_exporter": "python",
   "pygments_lexer": "ipython3",
   "version": "3.9.13"
  }
 },
 "nbformat": 4,
 "nbformat_minor": 5
}
